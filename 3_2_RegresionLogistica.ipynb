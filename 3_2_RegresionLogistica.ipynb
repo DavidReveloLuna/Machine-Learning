{
  "nbformat": 4,
  "nbformat_minor": 0,
  "metadata": {
    "colab": {
      "name": "3_2 RegresionLogistica.ipynb",
      "provenance": []
    },
    "kernelspec": {
      "name": "python3",
      "display_name": "Python 3"
    }
  },
  "cells": [
    {
      "cell_type": "markdown",
      "metadata": {
        "id": "dr9REwfDfQF0"
      },
      "source": [
        "\r\n",
        "#**Regresión Logística**\r\n",
        "\r\n",
        "Técnica probabilística de clasificación discriminante que permite predecir la probabilidad de obtener una variable categórica dada una combinación lineal en el espacio de entrada\r\n"
      ]
    },
    {
      "cell_type": "code",
      "metadata": {
        "id": "NoPPMlYO-Ylz"
      },
      "source": [
        "%matplotlib inline\r\n",
        "import numpy as np\r\n",
        "import matplotlib.pyplot as plt\r\n",
        "import seaborn as sns; sns.set()\r\n",
        "import pandas as pd"
      ],
      "execution_count": 22,
      "outputs": []
    },
    {
      "cell_type": "markdown",
      "metadata": {
        "id": "2aOa2v3SidcC"
      },
      "source": [
        "# 1. Dataset Digits"
      ]
    },
    {
      "cell_type": "code",
      "metadata": {
        "colab": {
          "base_uri": "https://localhost:8080/"
        },
        "id": "Av4Cmd6igz9z",
        "outputId": "8283514b-46c0-42bd-ae85-4a41516aa19f"
      },
      "source": [
        "from sklearn.datasets import load_digits\r\n",
        "\r\n",
        "# cargamos el dataset\r\n",
        "digits = load_digits()\r\n",
        "digits.data.shape"
      ],
      "execution_count": 23,
      "outputs": [
        {
          "output_type": "execute_result",
          "data": {
            "text/plain": [
              "(1797, 64)"
            ]
          },
          "metadata": {
            "tags": []
          },
          "execution_count": 23
        }
      ]
    },
    {
      "cell_type": "code",
      "metadata": {
        "colab": {
          "base_uri": "https://localhost:8080/",
          "height": 335
        },
        "id": "ZbTKLxSTAvJ8",
        "outputId": "a8e5ba0b-c35a-4963-fd2e-d3b4ec84bd5b"
      },
      "source": [
        "# Mostramos los digitos en imágenes\r\n",
        "\r\n",
        "fig = plt.figure(figsize=(6, 6))  # figure size in inches\r\n",
        "fig.subplots_adjust(left=0, right=1, bottom=0, top=1, hspace=0.05, wspace=0.05)\r\n",
        "\r\n",
        "for i in range(10):\r\n",
        "    ax = fig.add_subplot(2, 5, i + 1, xticks=[], yticks=[])\r\n",
        "    ax.imshow(digits.images[i], cmap=plt.cm.binary, interpolation='nearest')"
      ],
      "execution_count": 24,
      "outputs": [
        {
          "output_type": "display_data",
          "data": {
            "image/png": "[encoded data removed]",
            "text/plain": [
              "<Figure size 432x432 with 10 Axes>"
            ]
          },
          "metadata": {
            "tags": []
          }
        }
      ]
    },
    {
      "cell_type": "code",
      "metadata": {
        "id": "_fSkGYN7AxF9"
      },
      "source": [
        "# Dividimos los datos en entrenamiento y prueba\r\n",
        "from sklearn.model_selection import train_test_split\r\n",
        "\r\n",
        "Xtrain, Xtest, ytrain, ytest = train_test_split(digits.data, digits.target,random_state=0)"
      ],
      "execution_count": 25,
      "outputs": []
    },
    {
      "cell_type": "code",
      "metadata": {
        "id": "ArWSG5_MBCum"
      },
      "source": [
        "# Definimos la configuración del clasificador\r\n",
        "from sklearn.linear_model import LogisticRegression\r\n",
        "\r\n",
        "logisticRegr = LogisticRegression(max_iter = 5000)"
      ],
      "execution_count": 26,
      "outputs": []
    },
    {
      "cell_type": "markdown",
      "metadata": {
        "id": "mCOEyPK1l0D9"
      },
      "source": [
        "## Entrenamiento"
      ]
    },
    {
      "cell_type": "code",
      "metadata": {
        "colab": {
          "base_uri": "https://localhost:8080/"
        },
        "id": "c1NLPoHdBPtG",
        "outputId": "f42c3e68-e2c2-4121-d622-c04c58b5c9ff"
      },
      "source": [
        "logisticRegr.fit(Xtrain, ytrain)"
      ],
      "execution_count": 27,
      "outputs": [
        {
          "output_type": "execute_result",
          "data": {
            "text/plain": [
              "LogisticRegression(C=1.0, class_weight=None, dual=False, fit_intercept=True,\n",
              "                   intercept_scaling=1, l1_ratio=None, max_iter=5000,\n",
              "                   multi_class='auto', n_jobs=None, penalty='l2',\n",
              "                   random_state=None, solver='lbfgs', tol=0.0001, verbose=0,\n",
              "                   warm_start=False)"
            ]
          },
          "metadata": {
            "tags": []
          },
          "execution_count": 27
        }
      ]
    },
    {
      "cell_type": "markdown",
      "metadata": {
        "id": "bRWAmLKJmAOl"
      },
      "source": [
        "## Predicción"
      ]
    },
    {
      "cell_type": "code",
      "metadata": {
        "colab": {
          "base_uri": "https://localhost:8080/",
          "height": 437
        },
        "id": "y-sMo1HaBeot",
        "outputId": "20f0325f-35e4-4c15-e232-b3cb168d4e9c"
      },
      "source": [
        "from mlxtend.plotting import plot_confusion_matrix\r\n",
        "from sklearn.metrics import confusion_matrix\r\n",
        "ypred = logisticRegr.predict(Xtest)\r\n",
        "matriz = confusion_matrix(ytest,ypred)\r\n",
        "\r\n",
        "plot_confusion_matrix(conf_mat=matriz, figsize=(6,6), show_normed=False)\r\n",
        "plt.tight_layout()"
      ],
      "execution_count": 35,
      "outputs": [
        {
          "output_type": "display_data",
          "data": {
            "image/png": "[encoded data removed]",
            "text/plain": [
              "<Figure size 432x432 with 1 Axes>"
            ]
          },
          "metadata": {
            "tags": []
          }
        }
      ]
    },
    {
      "cell_type": "markdown",
      "metadata": {
        "id": "JIzatVqO897S"
      },
      "source": [
        "# 2. Dataset IRIS "
      ]
    },
    {
      "cell_type": "code",
      "metadata": {
        "id": "2_uidI088-fq",
        "colab": {
          "base_uri": "https://localhost:8080/"
        },
        "outputId": "7021cf26-84da-4f89-fe2a-cfd2f542e1b3"
      },
      "source": [
        "from sklearn.datasets import load_iris\r\n",
        "\r\n",
        "# cargamos el dataset\r\n",
        "iris = load_iris()\r\n",
        "\r\n",
        "# Imprimimos especies y características\r\n",
        "print(iris.target_names)\r\n",
        "print(iris.feature_names)"
      ],
      "execution_count": 9,
      "outputs": [
        {
          "output_type": "stream",
          "text": [
            "['setosa' 'versicolor' 'virginica']\n",
            "['sepal length (cm)', 'sepal width (cm)', 'petal length (cm)', 'petal width (cm)']\n"
          ],
          "name": "stdout"
        }
      ]
    },
    {
      "cell_type": "code",
      "metadata": {
        "colab": {
          "base_uri": "https://localhost:8080/",
          "height": 195
        },
        "id": "H3GM3t4g9W2y",
        "outputId": "e705b047-7391-4bab-b090-bdaac404f2c8"
      },
      "source": [
        "# Creamos dataframe para los datos\r\n",
        "import pandas as pd\r\n",
        "data=pd.DataFrame({\r\n",
        "    'sepal length':iris.data[:,0],\r\n",
        "    'sepal width':iris.data[:,1],\r\n",
        "    'petal length':iris.data[:,2],\r\n",
        "    'petal width':iris.data[:,3],\r\n",
        "    'species':iris.target\r\n",
        "})\r\n",
        "data.head()"
      ],
      "execution_count": 10,
      "outputs": [
        {
          "output_type": "execute_result",
          "data": {
            "text/html": [
              "<div>\n",
              "<style scoped>\n",
              "    .dataframe tbody tr th:only-of-type {\n",
              "        vertical-align: middle;\n",
              "    }\n",
              "\n",
              "    .dataframe tbody tr th {\n",
              "        vertical-align: top;\n",
              "    }\n",
              "\n",
              "    .dataframe thead th {\n",
              "        text-align: right;\n",
              "    }\n",
              "</style>\n",
              "<table border=\"1\" class=\"dataframe\">\n",
              "  <thead>\n",
              "    <tr style=\"text-align: right;\">\n",
              "      <th></th>\n",
              "      <th>sepal length</th>\n",
              "      <th>sepal width</th>\n",
              "      <th>petal length</th>\n",
              "      <th>petal width</th>\n",
              "      <th>species</th>\n",
              "    </tr>\n",
              "  </thead>\n",
              "  <tbody>\n",
              "    <tr>\n",
              "      <th>0</th>\n",
              "      <td>5.1</td>\n",
              "      <td>3.5</td>\n",
              "      <td>1.4</td>\n",
              "      <td>0.2</td>\n",
              "      <td>0</td>\n",
              "    </tr>\n",
              "    <tr>\n",
              "      <th>1</th>\n",
              "      <td>4.9</td>\n",
              "      <td>3.0</td>\n",
              "      <td>1.4</td>\n",
              "      <td>0.2</td>\n",
              "      <td>0</td>\n",
              "    </tr>\n",
              "    <tr>\n",
              "      <th>2</th>\n",
              "      <td>4.7</td>\n",
              "      <td>3.2</td>\n",
              "      <td>1.3</td>\n",
              "      <td>0.2</td>\n",
              "      <td>0</td>\n",
              "    </tr>\n",
              "    <tr>\n",
              "      <th>3</th>\n",
              "      <td>4.6</td>\n",
              "      <td>3.1</td>\n",
              "      <td>1.5</td>\n",
              "      <td>0.2</td>\n",
              "      <td>0</td>\n",
              "    </tr>\n",
              "    <tr>\n",
              "      <th>4</th>\n",
              "      <td>5.0</td>\n",
              "      <td>3.6</td>\n",
              "      <td>1.4</td>\n",
              "      <td>0.2</td>\n",
              "      <td>0</td>\n",
              "    </tr>\n",
              "  </tbody>\n",
              "</table>\n",
              "</div>"
            ],
            "text/plain": [
              "   sepal length  sepal width  petal length  petal width  species\n",
              "0           5.1          3.5           1.4          0.2        0\n",
              "1           4.9          3.0           1.4          0.2        0\n",
              "2           4.7          3.2           1.3          0.2        0\n",
              "3           4.6          3.1           1.5          0.2        0\n",
              "4           5.0          3.6           1.4          0.2        0"
            ]
          },
          "metadata": {
            "tags": []
          },
          "execution_count": 10
        }
      ]
    },
    {
      "cell_type": "code",
      "metadata": {
        "id": "-Jn-PvgR9aXt"
      },
      "source": [
        "# Dividimos los datos en variables independientes X, y variable dependiente y (especies)\r\n",
        "X = data.drop([\"species\"],axis = 1)\r\n",
        "y = data.species"
      ],
      "execution_count": 11,
      "outputs": []
    },
    {
      "cell_type": "code",
      "metadata": {
        "id": "xeSwj7L89dBG"
      },
      "source": [
        "# Dividimos datos para entrenamiento y prueba\r\n",
        "X_train, X_test, y_train, y_test = train_test_split(X, y, test_size=0.3)"
      ],
      "execution_count": 12,
      "outputs": []
    },
    {
      "cell_type": "code",
      "metadata": {
        "id": "xSxXbFaJ9fD5"
      },
      "source": [
        "# Definimos la configuración del clasificador\r\n",
        "from sklearn.linear_model import LogisticRegression\r\n",
        "\r\n",
        "logisticRegrIris = LogisticRegression(max_iter=1000)"
      ],
      "execution_count": 13,
      "outputs": []
    },
    {
      "cell_type": "markdown",
      "metadata": {
        "id": "XW9W7qo7nXCV"
      },
      "source": [
        "## Entrenamiento"
      ]
    },
    {
      "cell_type": "code",
      "metadata": {
        "colab": {
          "base_uri": "https://localhost:8080/"
        },
        "id": "CRE2zaMI9mvp",
        "outputId": "439e3ab4-674d-49a9-878f-9cbe607dda81"
      },
      "source": [
        "logisticRegrIris.fit(X_train, y_train)"
      ],
      "execution_count": 14,
      "outputs": [
        {
          "output_type": "execute_result",
          "data": {
            "text/plain": [
              "LogisticRegression(C=1.0, class_weight=None, dual=False, fit_intercept=True,\n",
              "                   intercept_scaling=1, l1_ratio=None, max_iter=1000,\n",
              "                   multi_class='auto', n_jobs=None, penalty='l2',\n",
              "                   random_state=None, solver='lbfgs', tol=0.0001, verbose=0,\n",
              "                   warm_start=False)"
            ]
          },
          "metadata": {
            "tags": []
          },
          "execution_count": 14
        }
      ]
    },
    {
      "cell_type": "markdown",
      "metadata": {
        "id": "rlnD2sNInb21"
      },
      "source": [
        "## Predicción"
      ]
    },
    {
      "cell_type": "code",
      "metadata": {
        "id": "HlqRjARb-Fyl",
        "colab": {
          "base_uri": "https://localhost:8080/",
          "height": 293
        },
        "outputId": "a3c0a876-ff2f-4cfe-cb3d-789fa74a0794"
      },
      "source": [
        "from mlxtend.plotting import plot_confusion_matrix\r\n",
        "from sklearn.metrics import confusion_matrix\r\n",
        "ypred = logisticRegrIris.predict(X_test)\r\n",
        "matriz = confusion_matrix(y_test,ypred)\r\n",
        "\r\n",
        "plot_confusion_matrix(conf_mat=matriz, figsize=(4,4), show_normed=False)\r\n",
        "plt.tight_layout()"
      ],
      "execution_count": 36,
      "outputs": [
        {
          "output_type": "display_data",
          "data": {
            "image/png": "[encoded data removed]",
            "text/plain": [
              "<Figure size 288x288 with 1 Axes>"
            ]
          },
          "metadata": {
            "tags": []
          }
        }
      ]
    }
  ]
}