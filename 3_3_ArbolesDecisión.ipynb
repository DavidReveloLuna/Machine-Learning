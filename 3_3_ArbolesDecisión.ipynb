{
  "nbformat": 4,
  "nbformat_minor": 0,
  "metadata": {
    "colab": {
      "name": "3_3_ArbolesDecisión.ipynb",
      "provenance": [],
      "collapsed_sections": [],
      "toc_visible": true
    },
    "kernelspec": {
      "name": "python3",
      "display_name": "Python 3"
    }
  },
  "cells": [
    {
      "cell_type": "markdown",
      "metadata": {
        "id": "_3uu4hq3y0Bz"
      },
      "source": [
        "\r\n",
        "#**Arboles de Decisión**\r\n",
        "\r\n",
        "Es un modelo predicción basado en una seria de posbiles resultados ocurridos por la toma de decisiones. Este modelo puede ser representado por un árbol que contiene:\r\n",
        "\r\n",
        "    1. Un conjunto de condicionales (Nodos sin hojas)\r\n",
        "    2. Un conjunto de clases (Hojas)\r\n",
        "    3. Un conjunto de características x\r\n",
        "\r\n"
      ]
    },
    {
      "cell_type": "code",
      "metadata": {
        "id": "YbuWWrDAs7WG"
      },
      "source": [
        "%matplotlib inline\r\n",
        "import numpy as np\r\n",
        "import matplotlib.pyplot as plt\r\n",
        "import pandas as pd\r\n",
        "from sklearn import tree"
      ],
      "execution_count": 2,
      "outputs": []
    },
    {
      "cell_type": "markdown",
      "metadata": {
        "id": "Ws2leV7y2XwJ"
      },
      "source": [
        "# 1. Dataset Titanic"
      ]
    },
    {
      "cell_type": "code",
      "metadata": {
        "colab": {
          "base_uri": "https://localhost:8080/",
          "height": 284
        },
        "id": "lMDqJLL2Mr6K",
        "outputId": "351ccb8e-c750-4de9-aed6-20ff497424a0"
      },
      "source": [
        "# Cargamos el dataset\r\n",
        "df= pd.read_csv(\"/content/Titanic.csv\")\r\n",
        "# Descripción genereal del conjunto de datos\r\n",
        "df.describe()"
      ],
      "execution_count": 3,
      "outputs": [
        {
          "output_type": "execute_result",
          "data": {
            "text/html": [
              "<div>\n",
              "<style scoped>\n",
              "    .dataframe tbody tr th:only-of-type {\n",
              "        vertical-align: middle;\n",
              "    }\n",
              "\n",
              "    .dataframe tbody tr th {\n",
              "        vertical-align: top;\n",
              "    }\n",
              "\n",
              "    .dataframe thead th {\n",
              "        text-align: right;\n",
              "    }\n",
              "</style>\n",
              "<table border=\"1\" class=\"dataframe\">\n",
              "  <thead>\n",
              "    <tr style=\"text-align: right;\">\n",
              "      <th></th>\n",
              "      <th>PassengerId</th>\n",
              "      <th>Survived</th>\n",
              "      <th>Pclass</th>\n",
              "      <th>Age</th>\n",
              "      <th>SibSp</th>\n",
              "      <th>Parch</th>\n",
              "      <th>Fare</th>\n",
              "    </tr>\n",
              "  </thead>\n",
              "  <tbody>\n",
              "    <tr>\n",
              "      <th>count</th>\n",
              "      <td>711.000000</td>\n",
              "      <td>711.000000</td>\n",
              "      <td>711.000000</td>\n",
              "      <td>711.000000</td>\n",
              "      <td>711.000000</td>\n",
              "      <td>711.000000</td>\n",
              "      <td>711.000000</td>\n",
              "    </tr>\n",
              "    <tr>\n",
              "      <th>mean</th>\n",
              "      <td>448.483826</td>\n",
              "      <td>0.403657</td>\n",
              "      <td>2.241913</td>\n",
              "      <td>29.621899</td>\n",
              "      <td>0.514768</td>\n",
              "      <td>0.431786</td>\n",
              "      <td>34.534323</td>\n",
              "    </tr>\n",
              "    <tr>\n",
              "      <th>std</th>\n",
              "      <td>258.849806</td>\n",
              "      <td>0.490976</td>\n",
              "      <td>0.836147</td>\n",
              "      <td>14.493108</td>\n",
              "      <td>0.931147</td>\n",
              "      <td>0.854517</td>\n",
              "      <td>52.968619</td>\n",
              "    </tr>\n",
              "    <tr>\n",
              "      <th>min</th>\n",
              "      <td>1.000000</td>\n",
              "      <td>0.000000</td>\n",
              "      <td>1.000000</td>\n",
              "      <td>0.420000</td>\n",
              "      <td>0.000000</td>\n",
              "      <td>0.000000</td>\n",
              "      <td>0.000000</td>\n",
              "    </tr>\n",
              "    <tr>\n",
              "      <th>25%</th>\n",
              "      <td>222.500000</td>\n",
              "      <td>0.000000</td>\n",
              "      <td>1.000000</td>\n",
              "      <td>20.000000</td>\n",
              "      <td>0.000000</td>\n",
              "      <td>0.000000</td>\n",
              "      <td>8.050000</td>\n",
              "    </tr>\n",
              "    <tr>\n",
              "      <th>50%</th>\n",
              "      <td>444.000000</td>\n",
              "      <td>0.000000</td>\n",
              "      <td>2.000000</td>\n",
              "      <td>28.000000</td>\n",
              "      <td>0.000000</td>\n",
              "      <td>0.000000</td>\n",
              "      <td>15.550000</td>\n",
              "    </tr>\n",
              "    <tr>\n",
              "      <th>75%</th>\n",
              "      <td>677.500000</td>\n",
              "      <td>1.000000</td>\n",
              "      <td>3.000000</td>\n",
              "      <td>38.000000</td>\n",
              "      <td>1.000000</td>\n",
              "      <td>1.000000</td>\n",
              "      <td>32.750000</td>\n",
              "    </tr>\n",
              "    <tr>\n",
              "      <th>max</th>\n",
              "      <td>891.000000</td>\n",
              "      <td>1.000000</td>\n",
              "      <td>3.000000</td>\n",
              "      <td>80.000000</td>\n",
              "      <td>5.000000</td>\n",
              "      <td>6.000000</td>\n",
              "      <td>512.329200</td>\n",
              "    </tr>\n",
              "  </tbody>\n",
              "</table>\n",
              "</div>"
            ],
            "text/plain": [
              "       PassengerId    Survived      Pclass  ...       SibSp       Parch        Fare\n",
              "count   711.000000  711.000000  711.000000  ...  711.000000  711.000000  711.000000\n",
              "mean    448.483826    0.403657    2.241913  ...    0.514768    0.431786   34.534323\n",
              "std     258.849806    0.490976    0.836147  ...    0.931147    0.854517   52.968619\n",
              "min       1.000000    0.000000    1.000000  ...    0.000000    0.000000    0.000000\n",
              "25%     222.500000    0.000000    1.000000  ...    0.000000    0.000000    8.050000\n",
              "50%     444.000000    0.000000    2.000000  ...    0.000000    0.000000   15.550000\n",
              "75%     677.500000    1.000000    3.000000  ...    1.000000    1.000000   32.750000\n",
              "max     891.000000    1.000000    3.000000  ...    5.000000    6.000000  512.329200\n",
              "\n",
              "[8 rows x 7 columns]"
            ]
          },
          "metadata": {
            "tags": []
          },
          "execution_count": 3
        }
      ]
    },
    {
      "cell_type": "code",
      "metadata": {
        "colab": {
          "base_uri": "https://localhost:8080/",
          "height": 229
        },
        "id": "gD71fLXPNWiE",
        "outputId": "c5f6a04b-f2ce-4533-a0ac-32b3a2d73f78"
      },
      "source": [
        "df.head()"
      ],
      "execution_count": 4,
      "outputs": [
        {
          "output_type": "execute_result",
          "data": {
            "text/html": [
              "<div>\n",
              "<style scoped>\n",
              "    .dataframe tbody tr th:only-of-type {\n",
              "        vertical-align: middle;\n",
              "    }\n",
              "\n",
              "    .dataframe tbody tr th {\n",
              "        vertical-align: top;\n",
              "    }\n",
              "\n",
              "    .dataframe thead th {\n",
              "        text-align: right;\n",
              "    }\n",
              "</style>\n",
              "<table border=\"1\" class=\"dataframe\">\n",
              "  <thead>\n",
              "    <tr style=\"text-align: right;\">\n",
              "      <th></th>\n",
              "      <th>PassengerId</th>\n",
              "      <th>Survived</th>\n",
              "      <th>Pclass</th>\n",
              "      <th>Name</th>\n",
              "      <th>Sex</th>\n",
              "      <th>Age</th>\n",
              "      <th>SibSp</th>\n",
              "      <th>Parch</th>\n",
              "      <th>Ticket</th>\n",
              "      <th>Fare</th>\n",
              "      <th>Cabin</th>\n",
              "      <th>Embarked</th>\n",
              "    </tr>\n",
              "  </thead>\n",
              "  <tbody>\n",
              "    <tr>\n",
              "      <th>0</th>\n",
              "      <td>1</td>\n",
              "      <td>0</td>\n",
              "      <td>3</td>\n",
              "      <td>Braund, Mr. Owen Harris</td>\n",
              "      <td>male</td>\n",
              "      <td>22.0</td>\n",
              "      <td>1</td>\n",
              "      <td>0</td>\n",
              "      <td>A/5 21171</td>\n",
              "      <td>7.2500</td>\n",
              "      <td>NaN</td>\n",
              "      <td>S</td>\n",
              "    </tr>\n",
              "    <tr>\n",
              "      <th>1</th>\n",
              "      <td>2</td>\n",
              "      <td>1</td>\n",
              "      <td>1</td>\n",
              "      <td>Cumings, Mrs. John Bradley (Florence Briggs Th...</td>\n",
              "      <td>female</td>\n",
              "      <td>38.0</td>\n",
              "      <td>1</td>\n",
              "      <td>0</td>\n",
              "      <td>PC 17599</td>\n",
              "      <td>71.2833</td>\n",
              "      <td>C85</td>\n",
              "      <td>C</td>\n",
              "    </tr>\n",
              "    <tr>\n",
              "      <th>2</th>\n",
              "      <td>3</td>\n",
              "      <td>1</td>\n",
              "      <td>3</td>\n",
              "      <td>Heikkinen, Miss. Laina</td>\n",
              "      <td>female</td>\n",
              "      <td>26.0</td>\n",
              "      <td>0</td>\n",
              "      <td>0</td>\n",
              "      <td>STON/O2. 3101282</td>\n",
              "      <td>7.9250</td>\n",
              "      <td>NaN</td>\n",
              "      <td>S</td>\n",
              "    </tr>\n",
              "    <tr>\n",
              "      <th>3</th>\n",
              "      <td>4</td>\n",
              "      <td>1</td>\n",
              "      <td>1</td>\n",
              "      <td>Futrelle, Mrs. Jacques Heath (Lily May Peel)</td>\n",
              "      <td>female</td>\n",
              "      <td>35.0</td>\n",
              "      <td>1</td>\n",
              "      <td>0</td>\n",
              "      <td>113803</td>\n",
              "      <td>53.1000</td>\n",
              "      <td>C123</td>\n",
              "      <td>S</td>\n",
              "    </tr>\n",
              "    <tr>\n",
              "      <th>4</th>\n",
              "      <td>5</td>\n",
              "      <td>0</td>\n",
              "      <td>3</td>\n",
              "      <td>Allen, Mr. William Henry</td>\n",
              "      <td>male</td>\n",
              "      <td>35.0</td>\n",
              "      <td>0</td>\n",
              "      <td>0</td>\n",
              "      <td>373450</td>\n",
              "      <td>8.0500</td>\n",
              "      <td>NaN</td>\n",
              "      <td>S</td>\n",
              "    </tr>\n",
              "  </tbody>\n",
              "</table>\n",
              "</div>"
            ],
            "text/plain": [
              "   PassengerId  Survived  Pclass  ...     Fare Cabin  Embarked\n",
              "0            1         0       3  ...   7.2500   NaN         S\n",
              "1            2         1       1  ...  71.2833   C85         C\n",
              "2            3         1       3  ...   7.9250   NaN         S\n",
              "3            4         1       1  ...  53.1000  C123         S\n",
              "4            5         0       3  ...   8.0500   NaN         S\n",
              "\n",
              "[5 rows x 12 columns]"
            ]
          },
          "metadata": {
            "tags": []
          },
          "execution_count": 4
        }
      ]
    },
    {
      "cell_type": "code",
      "metadata": {
        "colab": {
          "base_uri": "https://localhost:8080/",
          "height": 229
        },
        "id": "oKvG5U9hTRFj",
        "outputId": "687cb6c6-5379-45a7-90ff-7bb0f17ca56b"
      },
      "source": [
        "# Cambiamos la variable categórica Sex por la variable numérica Sex_male (Donde male = 1, fremale = 0)\r\n",
        "df = pd.get_dummies(df, columns=['Sex'], drop_first=True)\r\n",
        "df.head()"
      ],
      "execution_count": 5,
      "outputs": [
        {
          "output_type": "execute_result",
          "data": {
            "text/html": [
              "<div>\n",
              "<style scoped>\n",
              "    .dataframe tbody tr th:only-of-type {\n",
              "        vertical-align: middle;\n",
              "    }\n",
              "\n",
              "    .dataframe tbody tr th {\n",
              "        vertical-align: top;\n",
              "    }\n",
              "\n",
              "    .dataframe thead th {\n",
              "        text-align: right;\n",
              "    }\n",
              "</style>\n",
              "<table border=\"1\" class=\"dataframe\">\n",
              "  <thead>\n",
              "    <tr style=\"text-align: right;\">\n",
              "      <th></th>\n",
              "      <th>PassengerId</th>\n",
              "      <th>Survived</th>\n",
              "      <th>Pclass</th>\n",
              "      <th>Name</th>\n",
              "      <th>Age</th>\n",
              "      <th>SibSp</th>\n",
              "      <th>Parch</th>\n",
              "      <th>Ticket</th>\n",
              "      <th>Fare</th>\n",
              "      <th>Cabin</th>\n",
              "      <th>Embarked</th>\n",
              "      <th>Sex_male</th>\n",
              "    </tr>\n",
              "  </thead>\n",
              "  <tbody>\n",
              "    <tr>\n",
              "      <th>0</th>\n",
              "      <td>1</td>\n",
              "      <td>0</td>\n",
              "      <td>3</td>\n",
              "      <td>Braund, Mr. Owen Harris</td>\n",
              "      <td>22.0</td>\n",
              "      <td>1</td>\n",
              "      <td>0</td>\n",
              "      <td>A/5 21171</td>\n",
              "      <td>7.2500</td>\n",
              "      <td>NaN</td>\n",
              "      <td>S</td>\n",
              "      <td>1</td>\n",
              "    </tr>\n",
              "    <tr>\n",
              "      <th>1</th>\n",
              "      <td>2</td>\n",
              "      <td>1</td>\n",
              "      <td>1</td>\n",
              "      <td>Cumings, Mrs. John Bradley (Florence Briggs Th...</td>\n",
              "      <td>38.0</td>\n",
              "      <td>1</td>\n",
              "      <td>0</td>\n",
              "      <td>PC 17599</td>\n",
              "      <td>71.2833</td>\n",
              "      <td>C85</td>\n",
              "      <td>C</td>\n",
              "      <td>0</td>\n",
              "    </tr>\n",
              "    <tr>\n",
              "      <th>2</th>\n",
              "      <td>3</td>\n",
              "      <td>1</td>\n",
              "      <td>3</td>\n",
              "      <td>Heikkinen, Miss. Laina</td>\n",
              "      <td>26.0</td>\n",
              "      <td>0</td>\n",
              "      <td>0</td>\n",
              "      <td>STON/O2. 3101282</td>\n",
              "      <td>7.9250</td>\n",
              "      <td>NaN</td>\n",
              "      <td>S</td>\n",
              "      <td>0</td>\n",
              "    </tr>\n",
              "    <tr>\n",
              "      <th>3</th>\n",
              "      <td>4</td>\n",
              "      <td>1</td>\n",
              "      <td>1</td>\n",
              "      <td>Futrelle, Mrs. Jacques Heath (Lily May Peel)</td>\n",
              "      <td>35.0</td>\n",
              "      <td>1</td>\n",
              "      <td>0</td>\n",
              "      <td>113803</td>\n",
              "      <td>53.1000</td>\n",
              "      <td>C123</td>\n",
              "      <td>S</td>\n",
              "      <td>0</td>\n",
              "    </tr>\n",
              "    <tr>\n",
              "      <th>4</th>\n",
              "      <td>5</td>\n",
              "      <td>0</td>\n",
              "      <td>3</td>\n",
              "      <td>Allen, Mr. William Henry</td>\n",
              "      <td>35.0</td>\n",
              "      <td>0</td>\n",
              "      <td>0</td>\n",
              "      <td>373450</td>\n",
              "      <td>8.0500</td>\n",
              "      <td>NaN</td>\n",
              "      <td>S</td>\n",
              "      <td>1</td>\n",
              "    </tr>\n",
              "  </tbody>\n",
              "</table>\n",
              "</div>"
            ],
            "text/plain": [
              "   PassengerId  Survived  Pclass  ... Cabin  Embarked  Sex_male\n",
              "0            1         0       3  ...   NaN         S         1\n",
              "1            2         1       1  ...   C85         C         0\n",
              "2            3         1       3  ...   NaN         S         0\n",
              "3            4         1       1  ...  C123         S         0\n",
              "4            5         0       3  ...   NaN         S         1\n",
              "\n",
              "[5 rows x 12 columns]"
            ]
          },
          "metadata": {
            "tags": []
          },
          "execution_count": 5
        }
      ]
    },
    {
      "cell_type": "code",
      "metadata": {
        "colab": {
          "base_uri": "https://localhost:8080/",
          "height": 195
        },
        "id": "E41_cIdVT9A9",
        "outputId": "e44d3582-63bd-4337-d3ab-db44c4964ae3"
      },
      "source": [
        "# Seleccionamos las características para el modelo\r\n",
        "data = df[['Sex_male', 'Fare', 'Age','Pclass', 'SibSp','Survived']]\r\n",
        "data.head()"
      ],
      "execution_count": 6,
      "outputs": [
        {
          "output_type": "execute_result",
          "data": {
            "text/html": [
              "<div>\n",
              "<style scoped>\n",
              "    .dataframe tbody tr th:only-of-type {\n",
              "        vertical-align: middle;\n",
              "    }\n",
              "\n",
              "    .dataframe tbody tr th {\n",
              "        vertical-align: top;\n",
              "    }\n",
              "\n",
              "    .dataframe thead th {\n",
              "        text-align: right;\n",
              "    }\n",
              "</style>\n",
              "<table border=\"1\" class=\"dataframe\">\n",
              "  <thead>\n",
              "    <tr style=\"text-align: right;\">\n",
              "      <th></th>\n",
              "      <th>Sex_male</th>\n",
              "      <th>Fare</th>\n",
              "      <th>Age</th>\n",
              "      <th>Pclass</th>\n",
              "      <th>SibSp</th>\n",
              "      <th>Survived</th>\n",
              "    </tr>\n",
              "  </thead>\n",
              "  <tbody>\n",
              "    <tr>\n",
              "      <th>0</th>\n",
              "      <td>1</td>\n",
              "      <td>7.2500</td>\n",
              "      <td>22.0</td>\n",
              "      <td>3</td>\n",
              "      <td>1</td>\n",
              "      <td>0</td>\n",
              "    </tr>\n",
              "    <tr>\n",
              "      <th>1</th>\n",
              "      <td>0</td>\n",
              "      <td>71.2833</td>\n",
              "      <td>38.0</td>\n",
              "      <td>1</td>\n",
              "      <td>1</td>\n",
              "      <td>1</td>\n",
              "    </tr>\n",
              "    <tr>\n",
              "      <th>2</th>\n",
              "      <td>0</td>\n",
              "      <td>7.9250</td>\n",
              "      <td>26.0</td>\n",
              "      <td>3</td>\n",
              "      <td>0</td>\n",
              "      <td>1</td>\n",
              "    </tr>\n",
              "    <tr>\n",
              "      <th>3</th>\n",
              "      <td>0</td>\n",
              "      <td>53.1000</td>\n",
              "      <td>35.0</td>\n",
              "      <td>1</td>\n",
              "      <td>1</td>\n",
              "      <td>1</td>\n",
              "    </tr>\n",
              "    <tr>\n",
              "      <th>4</th>\n",
              "      <td>1</td>\n",
              "      <td>8.0500</td>\n",
              "      <td>35.0</td>\n",
              "      <td>3</td>\n",
              "      <td>0</td>\n",
              "      <td>0</td>\n",
              "    </tr>\n",
              "  </tbody>\n",
              "</table>\n",
              "</div>"
            ],
            "text/plain": [
              "   Sex_male     Fare   Age  Pclass  SibSp  Survived\n",
              "0         1   7.2500  22.0       3      1         0\n",
              "1         0  71.2833  38.0       1      1         1\n",
              "2         0   7.9250  26.0       3      0         1\n",
              "3         0  53.1000  35.0       1      1         1\n",
              "4         1   8.0500  35.0       3      0         0"
            ]
          },
          "metadata": {
            "tags": []
          },
          "execution_count": 6
        }
      ]
    },
    {
      "cell_type": "code",
      "metadata": {
        "colab": {
          "base_uri": "https://localhost:8080/"
        },
        "id": "nnCGU-pLUQgx",
        "outputId": "a5aaf961-67ea-460e-8543-de7f66d49604"
      },
      "source": [
        "# Información del dataset\r\n",
        "data.info()"
      ],
      "execution_count": 7,
      "outputs": [
        {
          "output_type": "stream",
          "text": [
            "<class 'pandas.core.frame.DataFrame'>\n",
            "RangeIndex: 711 entries, 0 to 710\n",
            "Data columns (total 6 columns):\n",
            " #   Column    Non-Null Count  Dtype  \n",
            "---  ------    --------------  -----  \n",
            " 0   Sex_male  711 non-null    uint8  \n",
            " 1   Fare      711 non-null    float64\n",
            " 2   Age       711 non-null    float64\n",
            " 3   Pclass    711 non-null    int64  \n",
            " 4   SibSp     711 non-null    int64  \n",
            " 5   Survived  711 non-null    int64  \n",
            "dtypes: float64(2), int64(3), uint8(1)\n",
            "memory usage: 28.6 KB\n"
          ],
          "name": "stdout"
        }
      ]
    },
    {
      "cell_type": "code",
      "metadata": {
        "id": "Qyj5K7BlZv_X"
      },
      "source": [
        "# Dividimos los datos en entrenamiento y prueba\r\n",
        "from sklearn.model_selection import train_test_split\r\n",
        "# X son nuestras variables independientes\r\n",
        "X = data.drop([\"Survived\"],axis = 1)\r\n",
        "\r\n",
        "# y es nuestra variable dependiente\r\n",
        "y = data.Survived\r\n",
        "\r\n",
        "# División 75% de datos para entrenamiento, 25% de daatos para test\r\n",
        "X_train, X_test, y_train, y_test = train_test_split(X, y,random_state=0)"
      ],
      "execution_count": 8,
      "outputs": []
    },
    {
      "cell_type": "code",
      "metadata": {
        "id": "dUMjp9A2WsCT"
      },
      "source": [
        "# Creaamos el modelo de Arbol de Decisión (y configuramos el número máximo de nodos-hoja)\r\n",
        "Dt_model = tree.DecisionTreeClassifier(max_leaf_nodes = 10)\r\n"
      ],
      "execution_count": 9,
      "outputs": []
    },
    {
      "cell_type": "markdown",
      "metadata": {
        "id": "fqKC-TS438xs"
      },
      "source": [
        "## Entrenamiento"
      ]
    },
    {
      "cell_type": "code",
      "metadata": {
        "colab": {
          "base_uri": "https://localhost:8080/"
        },
        "id": "x6uaXyjA3-5J",
        "outputId": "4cc96a0d-4e24-4db8-91d2-b5aca5145c02"
      },
      "source": [
        "Dt_model.fit(X_train, y_train)"
      ],
      "execution_count": 10,
      "outputs": [
        {
          "output_type": "execute_result",
          "data": {
            "text/plain": [
              "DecisionTreeClassifier(ccp_alpha=0.0, class_weight=None, criterion='gini',\n",
              "                       max_depth=None, max_features=None, max_leaf_nodes=10,\n",
              "                       min_impurity_decrease=0.0, min_impurity_split=None,\n",
              "                       min_samples_leaf=1, min_samples_split=2,\n",
              "                       min_weight_fraction_leaf=0.0, presort='deprecated',\n",
              "                       random_state=None, splitter='best')"
            ]
          },
          "metadata": {
            "tags": []
          },
          "execution_count": 10
        }
      ]
    },
    {
      "cell_type": "markdown",
      "metadata": {
        "id": "DLKlKJ5Y4EA3"
      },
      "source": [
        "## Visualización del árbol"
      ]
    },
    {
      "cell_type": "code",
      "metadata": {
        "colab": {
          "base_uri": "https://localhost:8080/",
          "height": 936
        },
        "id": "-Ga8LUW5W_PN",
        "outputId": "dad28dbb-39a0-4f72-dd11-9814b3f5aa86"
      },
      "source": [
        "import graphviz \r\n",
        "\r\n",
        "dot_data = tree.export_graphviz(Dt_model, out_file=None, \r\n",
        "                         feature_names=X_train.columns.values,  \r\n",
        "                         class_names=['Not Survived','Survived'],\r\n",
        "                         filled=True, rounded=True,  \r\n",
        "                         special_characters=True,leaves_parallel = False)  \r\n",
        "graph = graphviz.Source(dot_data)  \r\n",
        "graph "
      ],
      "execution_count": 11,
      "outputs": [
        {
          "output_type": "execute_result",
          "data": {
            "text/plain": [
              "<graphviz.files.Source at 0x7fd851fb8a58>"
            ],
            "image/svg+xml": "<?xml version=\"1.0\" encoding=\"UTF-8\" standalone=\"no\"?>\n<!DOCTYPE svg PUBLIC \"-//W3C//DTD SVG 1.1//EN\"\n \"http://www.w3.org/Graphics/SVG/1.1/DTD/svg11.dtd\">\n<!-- Generated by graphviz version 2.40.1 (20161225.0304)\n -->\n<!-- Title: Tree Pages: 1 -->\n<svg width=\"1017pt\" height=\"671pt\"\n viewBox=\"0.00 0.00 1017.00 671.00\" xmlns=\"http://www.w3.org/2000/svg\" xmlns:xlink=\"http://www.w3.org/1999/xlink\">\n<g id=\"graph0\" class=\"graph\" transform=\"scale(1 1) rotate(0) translate(4 667)\">\n<title>Tree</title>\n<polygon fill=\"#ffffff\" stroke=\"transparent\" points=\"-4,4 -4,-667 1013,-667 1013,4 -4,4\"/>\n<!-- 0 -->\n<g id=\"node1\" class=\"node\">\n<title>0</title>\n<path fill=\"#f6d3ba\" stroke=\"#000000\" d=\"M432,-663C432,-663 307,-663 307,-663 301,-663 295,-657 295,-651 295,-651 295,-592 295,-592 295,-586 301,-580 307,-580 307,-580 432,-580 432,-580 438,-580 444,-586 444,-592 444,-592 444,-651 444,-651 444,-657 438,-663 432,-663\"/>\n<text text-anchor=\"start\" x=\"319\" y=\"-647.8\" font-family=\"Helvetica,sans-Serif\" font-size=\"14.00\" fill=\"#000000\">Sex_male ≤ 0.5</text>\n<text text-anchor=\"start\" x=\"331.5\" y=\"-632.8\" font-family=\"Helvetica,sans-Serif\" font-size=\"14.00\" fill=\"#000000\">gini = 0.478</text>\n<text text-anchor=\"start\" x=\"321.5\" y=\"-617.8\" font-family=\"Helvetica,sans-Serif\" font-size=\"14.00\" fill=\"#000000\">samples = 533</text>\n<text text-anchor=\"start\" x=\"311.5\" y=\"-602.8\" font-family=\"Helvetica,sans-Serif\" font-size=\"14.00\" fill=\"#000000\">value = [323, 210]</text>\n<text text-anchor=\"start\" x=\"303\" y=\"-587.8\" font-family=\"Helvetica,sans-Serif\" font-size=\"14.00\" fill=\"#000000\">class = Not Survived</text>\n</g>\n<!-- 1 -->\n<g id=\"node2\" class=\"node\">\n<title>1</title>\n<path fill=\"#76bbed\" stroke=\"#000000\" d=\"M342.5,-544C342.5,-544 242.5,-544 242.5,-544 236.5,-544 230.5,-538 230.5,-532 230.5,-532 230.5,-473 230.5,-473 230.5,-467 236.5,-461 242.5,-461 242.5,-461 342.5,-461 342.5,-461 348.5,-461 354.5,-467 354.5,-473 354.5,-473 354.5,-532 354.5,-532 354.5,-538 348.5,-544 342.5,-544\"/>\n<text text-anchor=\"start\" x=\"253\" y=\"-528.8\" font-family=\"Helvetica,sans-Serif\" font-size=\"14.00\" fill=\"#000000\">Pclass ≤ 2.5</text>\n<text text-anchor=\"start\" x=\"259\" y=\"-513.8\" font-family=\"Helvetica,sans-Serif\" font-size=\"14.00\" fill=\"#000000\">gini = 0.36</text>\n<text text-anchor=\"start\" x=\"244.5\" y=\"-498.8\" font-family=\"Helvetica,sans-Serif\" font-size=\"14.00\" fill=\"#000000\">samples = 187</text>\n<text text-anchor=\"start\" x=\"238.5\" y=\"-483.8\" font-family=\"Helvetica,sans-Serif\" font-size=\"14.00\" fill=\"#000000\">value = [44, 143]</text>\n<text text-anchor=\"start\" x=\"239\" y=\"-468.8\" font-family=\"Helvetica,sans-Serif\" font-size=\"14.00\" fill=\"#000000\">class = Survived</text>\n</g>\n<!-- 0&#45;&gt;1 -->\n<g id=\"edge1\" class=\"edge\">\n<title>0&#45;&gt;1</title>\n<path fill=\"none\" stroke=\"#000000\" d=\"M342.5691,-579.8796C336.9163,-571.1434 330.8967,-561.8404 325.0634,-552.8253\"/>\n<polygon fill=\"#000000\" stroke=\"#000000\" points=\"327.9169,-550.7924 319.5458,-544.2981 322.0399,-554.5952 327.9169,-550.7924\"/>\n<text text-anchor=\"middle\" x=\"314.3076\" y=\"-565.0431\" font-family=\"Helvetica,sans-Serif\" font-size=\"14.00\" fill=\"#000000\">True</text>\n</g>\n<!-- 2 -->\n<g id=\"node9\" class=\"node\">\n<title>2</title>\n<path fill=\"#eb9f69\" stroke=\"#000000\" d=\"M586,-544C586,-544 461,-544 461,-544 455,-544 449,-538 449,-532 449,-532 449,-473 449,-473 449,-467 455,-461 461,-461 461,-461 586,-461 586,-461 592,-461 598,-467 598,-473 598,-473 598,-532 598,-532 598,-538 592,-544 586,-544\"/>\n<text text-anchor=\"start\" x=\"488.5\" y=\"-528.8\" font-family=\"Helvetica,sans-Serif\" font-size=\"14.00\" fill=\"#000000\">Age ≤ 13.5</text>\n<text text-anchor=\"start\" x=\"485.5\" y=\"-513.8\" font-family=\"Helvetica,sans-Serif\" font-size=\"14.00\" fill=\"#000000\">gini = 0.312</text>\n<text text-anchor=\"start\" x=\"475.5\" y=\"-498.8\" font-family=\"Helvetica,sans-Serif\" font-size=\"14.00\" fill=\"#000000\">samples = 346</text>\n<text text-anchor=\"start\" x=\"469.5\" y=\"-483.8\" font-family=\"Helvetica,sans-Serif\" font-size=\"14.00\" fill=\"#000000\">value = [279, 67]</text>\n<text text-anchor=\"start\" x=\"457\" y=\"-468.8\" font-family=\"Helvetica,sans-Serif\" font-size=\"14.00\" fill=\"#000000\">class = Not Survived</text>\n</g>\n<!-- 0&#45;&gt;2 -->\n<g id=\"edge8\" class=\"edge\">\n<title>0&#45;&gt;2</title>\n<path fill=\"none\" stroke=\"#000000\" d=\"M423.3617,-579.8796C435.6709,-570.368 448.8497,-560.1843 461.4704,-550.432\"/>\n<polygon fill=\"#000000\" stroke=\"#000000\" points=\"463.8959,-552.9809 469.6687,-544.0969 459.6157,-547.4419 463.8959,-552.9809\"/>\n<text text-anchor=\"middle\" x=\"466.4896\" y=\"-565.194\" font-family=\"Helvetica,sans-Serif\" font-size=\"14.00\" fill=\"#000000\">False</text>\n</g>\n<!-- 3 -->\n<g id=\"node3\" class=\"node\">\n<title>3</title>\n<path fill=\"#45a3e7\" stroke=\"#000000\" d=\"M201,-417.5C201,-417.5 102,-417.5 102,-417.5 96,-417.5 90,-411.5 90,-405.5 90,-405.5 90,-361.5 90,-361.5 90,-355.5 96,-349.5 102,-349.5 102,-349.5 201,-349.5 201,-349.5 207,-349.5 213,-355.5 213,-361.5 213,-361.5 213,-405.5 213,-405.5 213,-411.5 207,-417.5 201,-417.5\"/>\n<text text-anchor=\"start\" x=\"113.5\" y=\"-402.3\" font-family=\"Helvetica,sans-Serif\" font-size=\"14.00\" fill=\"#000000\">gini = 0.104</text>\n<text text-anchor=\"start\" x=\"103.5\" y=\"-387.3\" font-family=\"Helvetica,sans-Serif\" font-size=\"14.00\" fill=\"#000000\">samples = 109</text>\n<text text-anchor=\"start\" x=\"101.5\" y=\"-372.3\" font-family=\"Helvetica,sans-Serif\" font-size=\"14.00\" fill=\"#000000\">value = [6, 103]</text>\n<text text-anchor=\"start\" x=\"98\" y=\"-357.3\" font-family=\"Helvetica,sans-Serif\" font-size=\"14.00\" fill=\"#000000\">class = Survived</text>\n</g>\n<!-- 1&#45;&gt;3 -->\n<g id=\"edge2\" class=\"edge\">\n<title>1&#45;&gt;3</title>\n<path fill=\"none\" stroke=\"#000000\" d=\"M243.185,-460.8796C229.244,-449.1138 214.0846,-436.3197 200.1812,-424.5855\"/>\n<polygon fill=\"#000000\" stroke=\"#000000\" points=\"202.0584,-421.5899 192.1589,-417.8149 197.5436,-426.9394 202.0584,-421.5899\"/>\n</g>\n<!-- 4 -->\n<g id=\"node4\" class=\"node\">\n<title>4</title>\n<path fill=\"#f5fafe\" stroke=\"#000000\" d=\"M342,-425C342,-425 243,-425 243,-425 237,-425 231,-419 231,-413 231,-413 231,-354 231,-354 231,-348 237,-342 243,-342 243,-342 342,-342 342,-342 348,-342 354,-348 354,-354 354,-354 354,-413 354,-413 354,-419 348,-425 342,-425\"/>\n<text text-anchor=\"start\" x=\"247\" y=\"-409.8\" font-family=\"Helvetica,sans-Serif\" font-size=\"14.00\" fill=\"#000000\">Fare ≤ 23.087</text>\n<text text-anchor=\"start\" x=\"263\" y=\"-394.8\" font-family=\"Helvetica,sans-Serif\" font-size=\"14.00\" fill=\"#000000\">gini = 0.5</text>\n<text text-anchor=\"start\" x=\"248.5\" y=\"-379.8\" font-family=\"Helvetica,sans-Serif\" font-size=\"14.00\" fill=\"#000000\">samples = 78</text>\n<text text-anchor=\"start\" x=\"242.5\" y=\"-364.8\" font-family=\"Helvetica,sans-Serif\" font-size=\"14.00\" fill=\"#000000\">value = [38, 40]</text>\n<text text-anchor=\"start\" x=\"239\" y=\"-349.8\" font-family=\"Helvetica,sans-Serif\" font-size=\"14.00\" fill=\"#000000\">class = Survived</text>\n</g>\n<!-- 1&#45;&gt;4 -->\n<g id=\"edge3\" class=\"edge\">\n<title>1&#45;&gt;4</title>\n<path fill=\"none\" stroke=\"#000000\" d=\"M292.5,-460.8796C292.5,-452.6838 292.5,-443.9891 292.5,-435.5013\"/>\n<polygon fill=\"#000000\" stroke=\"#000000\" points=\"296.0001,-435.298 292.5,-425.2981 289.0001,-435.2981 296.0001,-435.298\"/>\n</g>\n<!-- 11 -->\n<g id=\"node5\" class=\"node\">\n<title>11</title>\n<path fill=\"#b6dbf5\" stroke=\"#000000\" d=\"M188,-306C188,-306 89,-306 89,-306 83,-306 77,-300 77,-294 77,-294 77,-235 77,-235 77,-229 83,-223 89,-223 89,-223 188,-223 188,-223 194,-223 200,-229 200,-235 200,-235 200,-294 200,-294 200,-300 194,-306 188,-306\"/>\n<text text-anchor=\"start\" x=\"103.5\" y=\"-290.8\" font-family=\"Helvetica,sans-Serif\" font-size=\"14.00\" fill=\"#000000\">Age ≤ 16.5</text>\n<text text-anchor=\"start\" x=\"100.5\" y=\"-275.8\" font-family=\"Helvetica,sans-Serif\" font-size=\"14.00\" fill=\"#000000\">gini = 0.475</text>\n<text text-anchor=\"start\" x=\"94.5\" y=\"-260.8\" font-family=\"Helvetica,sans-Serif\" font-size=\"14.00\" fill=\"#000000\">samples = 62</text>\n<text text-anchor=\"start\" x=\"88.5\" y=\"-245.8\" font-family=\"Helvetica,sans-Serif\" font-size=\"14.00\" fill=\"#000000\">value = [24, 38]</text>\n<text text-anchor=\"start\" x=\"85\" y=\"-230.8\" font-family=\"Helvetica,sans-Serif\" font-size=\"14.00\" fill=\"#000000\">class = Survived</text>\n</g>\n<!-- 4&#45;&gt;11 -->\n<g id=\"edge4\" class=\"edge\">\n<title>4&#45;&gt;11</title>\n<path fill=\"none\" stroke=\"#000000\" d=\"M238.6383,-341.8796C226.3291,-332.368 213.1503,-322.1843 200.5296,-312.432\"/>\n<polygon fill=\"#000000\" stroke=\"#000000\" points=\"202.3843,-309.4419 192.3313,-306.0969 198.1041,-314.9809 202.3843,-309.4419\"/>\n</g>\n<!-- 12 -->\n<g id=\"node8\" class=\"node\">\n<title>12</title>\n<path fill=\"#e99355\" stroke=\"#000000\" d=\"M355,-298.5C355,-298.5 230,-298.5 230,-298.5 224,-298.5 218,-292.5 218,-286.5 218,-286.5 218,-242.5 218,-242.5 218,-236.5 224,-230.5 230,-230.5 230,-230.5 355,-230.5 355,-230.5 361,-230.5 367,-236.5 367,-242.5 367,-242.5 367,-286.5 367,-286.5 367,-292.5 361,-298.5 355,-298.5\"/>\n<text text-anchor=\"start\" x=\"254.5\" y=\"-283.3\" font-family=\"Helvetica,sans-Serif\" font-size=\"14.00\" fill=\"#000000\">gini = 0.219</text>\n<text text-anchor=\"start\" x=\"248.5\" y=\"-268.3\" font-family=\"Helvetica,sans-Serif\" font-size=\"14.00\" fill=\"#000000\">samples = 16</text>\n<text text-anchor=\"start\" x=\"247\" y=\"-253.3\" font-family=\"Helvetica,sans-Serif\" font-size=\"14.00\" fill=\"#000000\">value = [14, 2]</text>\n<text text-anchor=\"start\" x=\"226\" y=\"-238.3\" font-family=\"Helvetica,sans-Serif\" font-size=\"14.00\" fill=\"#000000\">class = Not Survived</text>\n</g>\n<!-- 4&#45;&gt;12 -->\n<g id=\"edge7\" class=\"edge\">\n<title>4&#45;&gt;12</title>\n<path fill=\"none\" stroke=\"#000000\" d=\"M292.5,-341.8796C292.5,-331.2134 292.5,-319.7021 292.5,-308.9015\"/>\n<polygon fill=\"#000000\" stroke=\"#000000\" points=\"296.0001,-308.8149 292.5,-298.8149 289.0001,-308.815 296.0001,-308.8149\"/>\n</g>\n<!-- 13 -->\n<g id=\"node6\" class=\"node\">\n<title>13</title>\n<path fill=\"#5caeea\" stroke=\"#000000\" d=\"M111,-179.5C111,-179.5 12,-179.5 12,-179.5 6,-179.5 0,-173.5 0,-167.5 0,-167.5 0,-123.5 0,-123.5 0,-117.5 6,-111.5 12,-111.5 12,-111.5 111,-111.5 111,-111.5 117,-111.5 123,-117.5 123,-123.5 123,-123.5 123,-167.5 123,-167.5 123,-173.5 117,-179.5 111,-179.5\"/>\n<text text-anchor=\"start\" x=\"23.5\" y=\"-164.3\" font-family=\"Helvetica,sans-Serif\" font-size=\"14.00\" fill=\"#000000\">gini = 0.255</text>\n<text text-anchor=\"start\" x=\"17.5\" y=\"-149.3\" font-family=\"Helvetica,sans-Serif\" font-size=\"14.00\" fill=\"#000000\">samples = 20</text>\n<text text-anchor=\"start\" x=\"16\" y=\"-134.3\" font-family=\"Helvetica,sans-Serif\" font-size=\"14.00\" fill=\"#000000\">value = [3, 17]</text>\n<text text-anchor=\"start\" x=\"8\" y=\"-119.3\" font-family=\"Helvetica,sans-Serif\" font-size=\"14.00\" fill=\"#000000\">class = Survived</text>\n</g>\n<!-- 11&#45;&gt;13 -->\n<g id=\"edge5\" class=\"edge\">\n<title>11&#45;&gt;13</title>\n<path fill=\"none\" stroke=\"#000000\" d=\"M111.5691,-222.8796C104.3117,-211.6636 96.4497,-199.5131 89.1535,-188.2372\"/>\n<polygon fill=\"#000000\" stroke=\"#000000\" points=\"92.0748,-186.3093 83.7038,-179.8149 86.1978,-190.112 92.0748,-186.3093\"/>\n</g>\n<!-- 14 -->\n<g id=\"node7\" class=\"node\">\n<title>14</title>\n<path fill=\"#ffffff\" stroke=\"#000000\" d=\"M278,-179.5C278,-179.5 153,-179.5 153,-179.5 147,-179.5 141,-173.5 141,-167.5 141,-167.5 141,-123.5 141,-123.5 141,-117.5 147,-111.5 153,-111.5 153,-111.5 278,-111.5 278,-111.5 284,-111.5 290,-117.5 290,-123.5 290,-123.5 290,-167.5 290,-167.5 290,-173.5 284,-179.5 278,-179.5\"/>\n<text text-anchor=\"start\" x=\"186\" y=\"-164.3\" font-family=\"Helvetica,sans-Serif\" font-size=\"14.00\" fill=\"#000000\">gini = 0.5</text>\n<text text-anchor=\"start\" x=\"171.5\" y=\"-149.3\" font-family=\"Helvetica,sans-Serif\" font-size=\"14.00\" fill=\"#000000\">samples = 42</text>\n<text text-anchor=\"start\" x=\"165.5\" y=\"-134.3\" font-family=\"Helvetica,sans-Serif\" font-size=\"14.00\" fill=\"#000000\">value = [21, 21]</text>\n<text text-anchor=\"start\" x=\"149\" y=\"-119.3\" font-family=\"Helvetica,sans-Serif\" font-size=\"14.00\" fill=\"#000000\">class = Not Survived</text>\n</g>\n<!-- 11&#45;&gt;14 -->\n<g id=\"edge6\" class=\"edge\">\n<title>11&#45;&gt;14</title>\n<path fill=\"none\" stroke=\"#000000\" d=\"M165.4309,-222.8796C172.6883,-211.6636 180.5503,-199.5131 187.8465,-188.2372\"/>\n<polygon fill=\"#000000\" stroke=\"#000000\" points=\"190.8022,-190.112 193.2962,-179.8149 184.9252,-186.3093 190.8022,-190.112\"/>\n</g>\n<!-- 5 -->\n<g id=\"node10\" class=\"node\">\n<title>5</title>\n<path fill=\"#d5eaf9\" stroke=\"#000000\" d=\"M573,-425C573,-425 474,-425 474,-425 468,-425 462,-419 462,-413 462,-413 462,-354 462,-354 462,-348 468,-342 474,-342 474,-342 573,-342 573,-342 579,-342 585,-348 585,-354 585,-354 585,-413 585,-413 585,-419 579,-425 573,-425\"/>\n<text text-anchor=\"start\" x=\"486\" y=\"-409.8\" font-family=\"Helvetica,sans-Serif\" font-size=\"14.00\" fill=\"#000000\">SibSp ≤ 2.5</text>\n<text text-anchor=\"start\" x=\"485.5\" y=\"-394.8\" font-family=\"Helvetica,sans-Serif\" font-size=\"14.00\" fill=\"#000000\">gini = 0.493</text>\n<text text-anchor=\"start\" x=\"479.5\" y=\"-379.8\" font-family=\"Helvetica,sans-Serif\" font-size=\"14.00\" fill=\"#000000\">samples = 25</text>\n<text text-anchor=\"start\" x=\"473.5\" y=\"-364.8\" font-family=\"Helvetica,sans-Serif\" font-size=\"14.00\" fill=\"#000000\">value = [11, 14]</text>\n<text text-anchor=\"start\" x=\"470\" y=\"-349.8\" font-family=\"Helvetica,sans-Serif\" font-size=\"14.00\" fill=\"#000000\">class = Survived</text>\n</g>\n<!-- 2&#45;&gt;5 -->\n<g id=\"edge9\" class=\"edge\">\n<title>2&#45;&gt;5</title>\n<path fill=\"none\" stroke=\"#000000\" d=\"M523.5,-460.8796C523.5,-452.6838 523.5,-443.9891 523.5,-435.5013\"/>\n<polygon fill=\"#000000\" stroke=\"#000000\" points=\"527.0001,-435.298 523.5,-425.2981 520.0001,-435.2981 527.0001,-435.298\"/>\n</g>\n<!-- 6 -->\n<g id=\"node13\" class=\"node\">\n<title>6</title>\n<path fill=\"#ea9a60\" stroke=\"#000000\" d=\"M830,-425C830,-425 705,-425 705,-425 699,-425 693,-419 693,-413 693,-413 693,-354 693,-354 693,-348 699,-342 705,-342 705,-342 830,-342 830,-342 836,-342 842,-348 842,-354 842,-354 842,-413 842,-413 842,-419 836,-425 830,-425\"/>\n<text text-anchor=\"start\" x=\"728\" y=\"-409.8\" font-family=\"Helvetica,sans-Serif\" font-size=\"14.00\" fill=\"#000000\">Pclass ≤ 1.5</text>\n<text text-anchor=\"start\" x=\"729.5\" y=\"-394.8\" font-family=\"Helvetica,sans-Serif\" font-size=\"14.00\" fill=\"#000000\">gini = 0.276</text>\n<text text-anchor=\"start\" x=\"719.5\" y=\"-379.8\" font-family=\"Helvetica,sans-Serif\" font-size=\"14.00\" fill=\"#000000\">samples = 321</text>\n<text text-anchor=\"start\" x=\"713.5\" y=\"-364.8\" font-family=\"Helvetica,sans-Serif\" font-size=\"14.00\" fill=\"#000000\">value = [268, 53]</text>\n<text text-anchor=\"start\" x=\"701\" y=\"-349.8\" font-family=\"Helvetica,sans-Serif\" font-size=\"14.00\" fill=\"#000000\">class = Not Survived</text>\n</g>\n<!-- 2&#45;&gt;6 -->\n<g id=\"edge12\" class=\"edge\">\n<title>2&#45;&gt;6</title>\n<path fill=\"none\" stroke=\"#000000\" d=\"M598.0339,-466.1495C624.9796,-453.0079 655.5852,-438.0814 683.3023,-424.5636\"/>\n<polygon fill=\"#000000\" stroke=\"#000000\" points=\"685.128,-427.5674 692.5818,-420.038 682.0595,-421.2757 685.128,-427.5674\"/>\n</g>\n<!-- 7 -->\n<g id=\"node11\" class=\"node\">\n<title>7</title>\n<path fill=\"#399de5\" stroke=\"#000000\" d=\"M496,-298.5C496,-298.5 397,-298.5 397,-298.5 391,-298.5 385,-292.5 385,-286.5 385,-286.5 385,-242.5 385,-242.5 385,-236.5 391,-230.5 397,-230.5 397,-230.5 496,-230.5 496,-230.5 502,-230.5 508,-236.5 508,-242.5 508,-242.5 508,-286.5 508,-286.5 508,-292.5 502,-298.5 496,-298.5\"/>\n<text text-anchor=\"start\" x=\"417\" y=\"-283.3\" font-family=\"Helvetica,sans-Serif\" font-size=\"14.00\" fill=\"#000000\">gini = 0.0</text>\n<text text-anchor=\"start\" x=\"402.5\" y=\"-268.3\" font-family=\"Helvetica,sans-Serif\" font-size=\"14.00\" fill=\"#000000\">samples = 13</text>\n<text text-anchor=\"start\" x=\"401\" y=\"-253.3\" font-family=\"Helvetica,sans-Serif\" font-size=\"14.00\" fill=\"#000000\">value = [0, 13]</text>\n<text text-anchor=\"start\" x=\"393\" y=\"-238.3\" font-family=\"Helvetica,sans-Serif\" font-size=\"14.00\" fill=\"#000000\">class = Survived</text>\n</g>\n<!-- 5&#45;&gt;7 -->\n<g id=\"edge10\" class=\"edge\">\n<title>5&#45;&gt;7</title>\n<path fill=\"none\" stroke=\"#000000\" d=\"M496.5691,-341.8796C489.3117,-330.6636 481.4497,-318.5131 474.1535,-307.2372\"/>\n<polygon fill=\"#000000\" stroke=\"#000000\" points=\"477.0748,-305.3093 468.7038,-298.8149 471.1978,-309.112 477.0748,-305.3093\"/>\n</g>\n<!-- 8 -->\n<g id=\"node12\" class=\"node\">\n<title>8</title>\n<path fill=\"#e78c4b\" stroke=\"#000000\" d=\"M663,-298.5C663,-298.5 538,-298.5 538,-298.5 532,-298.5 526,-292.5 526,-286.5 526,-286.5 526,-242.5 526,-242.5 526,-236.5 532,-230.5 538,-230.5 538,-230.5 663,-230.5 663,-230.5 669,-230.5 675,-236.5 675,-242.5 675,-242.5 675,-286.5 675,-286.5 675,-292.5 669,-298.5 663,-298.5\"/>\n<text text-anchor=\"start\" x=\"562.5\" y=\"-283.3\" font-family=\"Helvetica,sans-Serif\" font-size=\"14.00\" fill=\"#000000\">gini = 0.153</text>\n<text text-anchor=\"start\" x=\"556.5\" y=\"-268.3\" font-family=\"Helvetica,sans-Serif\" font-size=\"14.00\" fill=\"#000000\">samples = 12</text>\n<text text-anchor=\"start\" x=\"555\" y=\"-253.3\" font-family=\"Helvetica,sans-Serif\" font-size=\"14.00\" fill=\"#000000\">value = [11, 1]</text>\n<text text-anchor=\"start\" x=\"534\" y=\"-238.3\" font-family=\"Helvetica,sans-Serif\" font-size=\"14.00\" fill=\"#000000\">class = Not Survived</text>\n</g>\n<!-- 5&#45;&gt;8 -->\n<g id=\"edge11\" class=\"edge\">\n<title>5&#45;&gt;8</title>\n<path fill=\"none\" stroke=\"#000000\" d=\"M550.4309,-341.8796C557.6883,-330.6636 565.5503,-318.5131 572.8465,-307.2372\"/>\n<polygon fill=\"#000000\" stroke=\"#000000\" points=\"575.8022,-309.112 578.2962,-298.8149 569.9252,-305.3093 575.8022,-309.112\"/>\n</g>\n<!-- 9 -->\n<g id=\"node14\" class=\"node\">\n<title>9</title>\n<path fill=\"#f4c8a9\" stroke=\"#000000\" d=\"M830,-306C830,-306 705,-306 705,-306 699,-306 693,-300 693,-294 693,-294 693,-235 693,-235 693,-229 699,-223 705,-223 705,-223 830,-223 830,-223 836,-223 842,-229 842,-235 842,-235 842,-294 842,-294 842,-300 836,-306 830,-306\"/>\n<text text-anchor=\"start\" x=\"732.5\" y=\"-290.8\" font-family=\"Helvetica,sans-Serif\" font-size=\"14.00\" fill=\"#000000\">Age ≤ 43.0</text>\n<text text-anchor=\"start\" x=\"729.5\" y=\"-275.8\" font-family=\"Helvetica,sans-Serif\" font-size=\"14.00\" fill=\"#000000\">gini = 0.461</text>\n<text text-anchor=\"start\" x=\"723.5\" y=\"-260.8\" font-family=\"Helvetica,sans-Serif\" font-size=\"14.00\" fill=\"#000000\">samples = 72</text>\n<text text-anchor=\"start\" x=\"717.5\" y=\"-245.8\" font-family=\"Helvetica,sans-Serif\" font-size=\"14.00\" fill=\"#000000\">value = [46, 26]</text>\n<text text-anchor=\"start\" x=\"701\" y=\"-230.8\" font-family=\"Helvetica,sans-Serif\" font-size=\"14.00\" fill=\"#000000\">class = Not Survived</text>\n</g>\n<!-- 6&#45;&gt;9 -->\n<g id=\"edge13\" class=\"edge\">\n<title>6&#45;&gt;9</title>\n<path fill=\"none\" stroke=\"#000000\" d=\"M767.5,-341.8796C767.5,-333.6838 767.5,-324.9891 767.5,-316.5013\"/>\n<polygon fill=\"#000000\" stroke=\"#000000\" points=\"771.0001,-316.298 767.5,-306.2981 764.0001,-316.2981 771.0001,-316.298\"/>\n</g>\n<!-- 10 -->\n<g id=\"node19\" class=\"node\">\n<title>10</title>\n<path fill=\"#e89051\" stroke=\"#000000\" d=\"M997,-298.5C997,-298.5 872,-298.5 872,-298.5 866,-298.5 860,-292.5 860,-286.5 860,-286.5 860,-242.5 860,-242.5 860,-236.5 866,-230.5 872,-230.5 872,-230.5 997,-230.5 997,-230.5 1003,-230.5 1009,-236.5 1009,-242.5 1009,-242.5 1009,-286.5 1009,-286.5 1009,-292.5 1003,-298.5 997,-298.5\"/>\n<text text-anchor=\"start\" x=\"896.5\" y=\"-283.3\" font-family=\"Helvetica,sans-Serif\" font-size=\"14.00\" fill=\"#000000\">gini = 0.193</text>\n<text text-anchor=\"start\" x=\"886.5\" y=\"-268.3\" font-family=\"Helvetica,sans-Serif\" font-size=\"14.00\" fill=\"#000000\">samples = 249</text>\n<text text-anchor=\"start\" x=\"880.5\" y=\"-253.3\" font-family=\"Helvetica,sans-Serif\" font-size=\"14.00\" fill=\"#000000\">value = [222, 27]</text>\n<text text-anchor=\"start\" x=\"868\" y=\"-238.3\" font-family=\"Helvetica,sans-Serif\" font-size=\"14.00\" fill=\"#000000\">class = Not Survived</text>\n</g>\n<!-- 6&#45;&gt;10 -->\n<g id=\"edge18\" class=\"edge\">\n<title>6&#45;&gt;10</title>\n<path fill=\"none\" stroke=\"#000000\" d=\"M825.9085,-341.8796C842.964,-329.7263 861.5591,-316.4759 878.4641,-304.4297\"/>\n<polygon fill=\"#000000\" stroke=\"#000000\" points=\"880.5002,-307.2766 886.6131,-298.623 876.438,-301.5759 880.5002,-307.2766\"/>\n</g>\n<!-- 15 -->\n<g id=\"node15\" class=\"node\">\n<title>15</title>\n<path fill=\"#fbede3\" stroke=\"#000000\" d=\"M746,-187C746,-187 621,-187 621,-187 615,-187 609,-181 609,-175 609,-175 609,-116 609,-116 609,-110 615,-104 621,-104 621,-104 746,-104 746,-104 752,-104 758,-110 758,-116 758,-116 758,-175 758,-175 758,-181 752,-187 746,-187\"/>\n<text text-anchor=\"start\" x=\"648.5\" y=\"-171.8\" font-family=\"Helvetica,sans-Serif\" font-size=\"14.00\" fill=\"#000000\">Age ≤ 22.5</text>\n<text text-anchor=\"start\" x=\"645.5\" y=\"-156.8\" font-family=\"Helvetica,sans-Serif\" font-size=\"14.00\" fill=\"#000000\">gini = 0.497</text>\n<text text-anchor=\"start\" x=\"639.5\" y=\"-141.8\" font-family=\"Helvetica,sans-Serif\" font-size=\"14.00\" fill=\"#000000\">samples = 39</text>\n<text text-anchor=\"start\" x=\"633.5\" y=\"-126.8\" font-family=\"Helvetica,sans-Serif\" font-size=\"14.00\" fill=\"#000000\">value = [21, 18]</text>\n<text text-anchor=\"start\" x=\"617\" y=\"-111.8\" font-family=\"Helvetica,sans-Serif\" font-size=\"14.00\" fill=\"#000000\">class = Not Survived</text>\n</g>\n<!-- 9&#45;&gt;15 -->\n<g id=\"edge14\" class=\"edge\">\n<title>9&#45;&gt;15</title>\n<path fill=\"none\" stroke=\"#000000\" d=\"M738.1209,-222.8796C731.8906,-214.0534 725.2519,-204.6485 718.827,-195.5466\"/>\n<polygon fill=\"#000000\" stroke=\"#000000\" points=\"721.6308,-193.4494 713.0045,-187.2981 715.912,-197.4862 721.6308,-193.4494\"/>\n</g>\n<!-- 16 -->\n<g id=\"node18\" class=\"node\">\n<title>16</title>\n<path fill=\"#eda978\" stroke=\"#000000\" d=\"M913,-179.5C913,-179.5 788,-179.5 788,-179.5 782,-179.5 776,-173.5 776,-167.5 776,-167.5 776,-123.5 776,-123.5 776,-117.5 782,-111.5 788,-111.5 788,-111.5 913,-111.5 913,-111.5 919,-111.5 925,-117.5 925,-123.5 925,-123.5 925,-167.5 925,-167.5 925,-173.5 919,-179.5 913,-179.5\"/>\n<text text-anchor=\"start\" x=\"812.5\" y=\"-164.3\" font-family=\"Helvetica,sans-Serif\" font-size=\"14.00\" fill=\"#000000\">gini = 0.367</text>\n<text text-anchor=\"start\" x=\"806.5\" y=\"-149.3\" font-family=\"Helvetica,sans-Serif\" font-size=\"14.00\" fill=\"#000000\">samples = 33</text>\n<text text-anchor=\"start\" x=\"805\" y=\"-134.3\" font-family=\"Helvetica,sans-Serif\" font-size=\"14.00\" fill=\"#000000\">value = [25, 8]</text>\n<text text-anchor=\"start\" x=\"784\" y=\"-119.3\" font-family=\"Helvetica,sans-Serif\" font-size=\"14.00\" fill=\"#000000\">class = Not Survived</text>\n</g>\n<!-- 9&#45;&gt;16 -->\n<g id=\"edge17\" class=\"edge\">\n<title>9&#45;&gt;16</title>\n<path fill=\"none\" stroke=\"#000000\" d=\"M796.5294,-222.8796C804.3523,-211.6636 812.827,-199.5131 820.6917,-188.2372\"/>\n<polygon fill=\"#000000\" stroke=\"#000000\" points=\"823.716,-190.0192 826.5661,-179.8149 817.9746,-186.0147 823.716,-190.0192\"/>\n</g>\n<!-- 17 -->\n<g id=\"node16\" class=\"node\">\n<title>17</title>\n<path fill=\"#e58139\" stroke=\"#000000\" d=\"M669,-68C669,-68 544,-68 544,-68 538,-68 532,-62 532,-56 532,-56 532,-12 532,-12 532,-6 538,0 544,0 544,0 669,0 669,0 675,0 681,-6 681,-12 681,-12 681,-56 681,-56 681,-62 675,-68 669,-68\"/>\n<text text-anchor=\"start\" x=\"577\" y=\"-52.8\" font-family=\"Helvetica,sans-Serif\" font-size=\"14.00\" fill=\"#000000\">gini = 0.0</text>\n<text text-anchor=\"start\" x=\"567\" y=\"-37.8\" font-family=\"Helvetica,sans-Serif\" font-size=\"14.00\" fill=\"#000000\">samples = 5</text>\n<text text-anchor=\"start\" x=\"565\" y=\"-22.8\" font-family=\"Helvetica,sans-Serif\" font-size=\"14.00\" fill=\"#000000\">value = [5, 0]</text>\n<text text-anchor=\"start\" x=\"540\" y=\"-7.8\" font-family=\"Helvetica,sans-Serif\" font-size=\"14.00\" fill=\"#000000\">class = Not Survived</text>\n</g>\n<!-- 15&#45;&gt;17 -->\n<g id=\"edge15\" class=\"edge\">\n<title>15&#45;&gt;17</title>\n<path fill=\"none\" stroke=\"#000000\" d=\"M654.828,-103.9815C648.6715,-95.0666 642.1557,-85.6313 635.9695,-76.6734\"/>\n<polygon fill=\"#000000\" stroke=\"#000000\" points=\"638.7245,-74.5034 630.1619,-68.2637 632.9645,-78.4811 638.7245,-74.5034\"/>\n</g>\n<!-- 18 -->\n<g id=\"node17\" class=\"node\">\n<title>18</title>\n<path fill=\"#e9f4fc\" stroke=\"#000000\" d=\"M810,-68C810,-68 711,-68 711,-68 705,-68 699,-62 699,-56 699,-56 699,-12 699,-12 699,-6 705,0 711,0 711,0 810,0 810,0 816,0 822,-6 822,-12 822,-12 822,-56 822,-56 822,-62 816,-68 810,-68\"/>\n<text text-anchor=\"start\" x=\"722.5\" y=\"-52.8\" font-family=\"Helvetica,sans-Serif\" font-size=\"14.00\" fill=\"#000000\">gini = 0.498</text>\n<text text-anchor=\"start\" x=\"716.5\" y=\"-37.8\" font-family=\"Helvetica,sans-Serif\" font-size=\"14.00\" fill=\"#000000\">samples = 34</text>\n<text text-anchor=\"start\" x=\"710.5\" y=\"-22.8\" font-family=\"Helvetica,sans-Serif\" font-size=\"14.00\" fill=\"#000000\">value = [16, 18]</text>\n<text text-anchor=\"start\" x=\"707\" y=\"-7.8\" font-family=\"Helvetica,sans-Serif\" font-size=\"14.00\" fill=\"#000000\">class = Survived</text>\n</g>\n<!-- 15&#45;&gt;18 -->\n<g id=\"edge16\" class=\"edge\">\n<title>15&#45;&gt;18</title>\n<path fill=\"none\" stroke=\"#000000\" d=\"M712.172,-103.9815C718.3285,-95.0666 724.8443,-85.6313 731.0305,-76.6734\"/>\n<polygon fill=\"#000000\" stroke=\"#000000\" points=\"734.0355,-78.4811 736.8381,-68.2637 728.2755,-74.5034 734.0355,-78.4811\"/>\n</g>\n</g>\n</svg>\n"
          },
          "metadata": {
            "tags": []
          },
          "execution_count": 11
        }
      ]
    },
    {
      "cell_type": "markdown",
      "metadata": {
        "id": "9eV4BZbq4joX"
      },
      "source": [
        "## Exportar árbol"
      ]
    },
    {
      "cell_type": "code",
      "metadata": {
        "id": "Papn5YtrfKy-"
      },
      "source": [
        "import pydot\r\n",
        "(graph, ) = pydot.graph_from_dot_data(dot_data)\r\n",
        "# Write graph to a png file\r\n",
        "graph.write_png('tree.png') "
      ],
      "execution_count": 12,
      "outputs": []
    },
    {
      "cell_type": "markdown",
      "metadata": {
        "id": "QsfIp8ZEX9w-"
      },
      "source": [
        "## Accuracy promedio (Usando datos de Test)"
      ]
    },
    {
      "cell_type": "code",
      "metadata": {
        "colab": {
          "base_uri": "https://localhost:8080/"
        },
        "id": "JN-BNnCSYQD2",
        "outputId": "34d3823c-b26c-4730-f467-4f922dec2251"
      },
      "source": [
        "# Accuracy promedio\r\n",
        "Dt_model.score(X_test, y_test)"
      ],
      "execution_count": 13,
      "outputs": [
        {
          "output_type": "execute_result",
          "data": {
            "text/plain": [
              "0.8202247191011236"
            ]
          },
          "metadata": {
            "tags": []
          },
          "execution_count": 13
        }
      ]
    },
    {
      "cell_type": "markdown",
      "metadata": {
        "id": "8vYMj9ZgaKMG"
      },
      "source": [
        "## Matriz de Confusión"
      ]
    },
    {
      "cell_type": "code",
      "metadata": {
        "id": "bqyx5zNMfs_D",
        "colab": {
          "base_uri": "https://localhost:8080/",
          "height": 441
        },
        "outputId": "0a3ae6ba-09e3-44ab-92a7-96618f9b903a"
      },
      "source": [
        "from mlxtend.plotting import plot_confusion_matrix\r\n",
        "from sklearn.metrics import confusion_matrix\r\n",
        "\r\n",
        "y_pred = Dt_model.predict(X_test)\r\n",
        "matriz = confusion_matrix(y_test,y_pred)\r\n",
        "\r\n",
        "plot_confusion_matrix(conf_mat=matriz, figsize=(6,6), show_normed=False)\r\n",
        "plt.tight_layout()"
      ],
      "execution_count": 26,
      "outputs": [
        {
          "output_type": "display_data",
          "data": {
            "image/png": "[encoded data removed]",
            "text/plain": [
              "<Figure size 432x432 with 1 Axes>"
            ]
          },
          "metadata": {
            "tags": [],
            "needs_background": "light"
          }
        }
      ]
    },
    {
      "cell_type": "code",
      "metadata": {
        "id": "3TQddciqarut"
      },
      "source": [
        ""
      ],
      "execution_count": null,
      "outputs": []
    }
  ]
}