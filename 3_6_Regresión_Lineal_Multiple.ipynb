{
  "nbformat": 4,
  "nbformat_minor": 0,
  "metadata": {
    "colab": {
      "name": "Regresión_Lineal_Multiple.ipynb",
      "provenance": []
    },
    "kernelspec": {
      "name": "python3",
      "display_name": "Python 3"
    },
    "language_info": {
      "name": "python"
    }
  },
  "cells": [
    {
      "cell_type": "markdown",
      "metadata": {
        "id": "uso3eoD0UbDR"
      },
      "source": [
        "#**Regresión Lineal Múltiple**\n",
        "\n",
        "\n",
        "\n",
        "## Elementos Importantes de la RLM:\n",
        "\n",
        "*   Método de regresión que presenta la relación entre una variable dependiente y varias variables explicativas independientes\n",
        "*   Se establece la minimización de los residuos para ajustar los parámetros del modelo\n",
        "*   En este desarrollo se presentará la minimización por mínimos cuadrados\n",
        "*   Considera presupuestos cómo : valor esperado 0 de los errores, varianza de los errores constate, distribución normal de los errores"
      ]
    },
    {
      "cell_type": "markdown",
      "metadata": {
        "id": "fgAK7o8vYb5f"
      },
      "source": [
        "## **1. Fundamentación**"
      ]
    },
    {
      "cell_type": "code",
      "metadata": {
        "id": "Aquc1g8M_aZz"
      },
      "source": [
        "import matplotlib.pyplot as plt\n",
        "import numpy as np\n",
        "import pandas as pd\n",
        "from sklearn import datasets\n",
        "from sklearn.metrics import mean_squared_error\n",
        "from sklearn.linear_model import LinearRegression"
      ],
      "execution_count": 4,
      "outputs": []
    },
    {
      "cell_type": "markdown",
      "metadata": {
        "id": "ZfhJcIHOYjOe"
      },
      "source": [
        "## Cargamos dataset Boston\n",
        "\n",
        "Vamos a generar un modelo que permita obtener una predicción del costo de una vivienda en Bostón a partir de ciertas varialbes independientes"
      ]
    },
    {
      "cell_type": "code",
      "metadata": {
        "id": "ut6vSpKC__JJ"
      },
      "source": [
        "# Cargamos el dataset\n",
        "boston_dataset = datasets.load_boston()"
      ],
      "execution_count": 5,
      "outputs": []
    },
    {
      "cell_type": "code",
      "metadata": {
        "colab": {
          "base_uri": "https://localhost:8080/",
          "height": 196
        },
        "id": "K8UZ9jLyADs7",
        "outputId": "bc6d1058-7aae-4d24-9b20-113bfcc00c1e"
      },
      "source": [
        "# Creamos un dataframe de pandas con los datos del dataset\n",
        "boston = pd.DataFrame(boston_dataset.data, columns=boston_dataset.feature_names)\n",
        "boston.head()"
      ],
      "execution_count": 6,
      "outputs": [
        {
          "output_type": "execute_result",
          "data": {
            "text/html": [
              "<div>\n",
              "<style scoped>\n",
              "    .dataframe tbody tr th:only-of-type {\n",
              "        vertical-align: middle;\n",
              "    }\n",
              "\n",
              "    .dataframe tbody tr th {\n",
              "        vertical-align: top;\n",
              "    }\n",
              "\n",
              "    .dataframe thead th {\n",
              "        text-align: right;\n",
              "    }\n",
              "</style>\n",
              "<table border=\"1\" class=\"dataframe\">\n",
              "  <thead>\n",
              "    <tr style=\"text-align: right;\">\n",
              "      <th></th>\n",
              "      <th>CRIM</th>\n",
              "      <th>ZN</th>\n",
              "      <th>INDUS</th>\n",
              "      <th>CHAS</th>\n",
              "      <th>NOX</th>\n",
              "      <th>RM</th>\n",
              "      <th>AGE</th>\n",
              "      <th>DIS</th>\n",
              "      <th>RAD</th>\n",
              "      <th>TAX</th>\n",
              "      <th>PTRATIO</th>\n",
              "      <th>B</th>\n",
              "      <th>LSTAT</th>\n",
              "    </tr>\n",
              "  </thead>\n",
              "  <tbody>\n",
              "    <tr>\n",
              "      <th>0</th>\n",
              "      <td>0.00632</td>\n",
              "      <td>18.0</td>\n",
              "      <td>2.31</td>\n",
              "      <td>0.0</td>\n",
              "      <td>0.538</td>\n",
              "      <td>6.575</td>\n",
              "      <td>65.2</td>\n",
              "      <td>4.0900</td>\n",
              "      <td>1.0</td>\n",
              "      <td>296.0</td>\n",
              "      <td>15.3</td>\n",
              "      <td>396.90</td>\n",
              "      <td>4.98</td>\n",
              "    </tr>\n",
              "    <tr>\n",
              "      <th>1</th>\n",
              "      <td>0.02731</td>\n",
              "      <td>0.0</td>\n",
              "      <td>7.07</td>\n",
              "      <td>0.0</td>\n",
              "      <td>0.469</td>\n",
              "      <td>6.421</td>\n",
              "      <td>78.9</td>\n",
              "      <td>4.9671</td>\n",
              "      <td>2.0</td>\n",
              "      <td>242.0</td>\n",
              "      <td>17.8</td>\n",
              "      <td>396.90</td>\n",
              "      <td>9.14</td>\n",
              "    </tr>\n",
              "    <tr>\n",
              "      <th>2</th>\n",
              "      <td>0.02729</td>\n",
              "      <td>0.0</td>\n",
              "      <td>7.07</td>\n",
              "      <td>0.0</td>\n",
              "      <td>0.469</td>\n",
              "      <td>7.185</td>\n",
              "      <td>61.1</td>\n",
              "      <td>4.9671</td>\n",
              "      <td>2.0</td>\n",
              "      <td>242.0</td>\n",
              "      <td>17.8</td>\n",
              "      <td>392.83</td>\n",
              "      <td>4.03</td>\n",
              "    </tr>\n",
              "    <tr>\n",
              "      <th>3</th>\n",
              "      <td>0.03237</td>\n",
              "      <td>0.0</td>\n",
              "      <td>2.18</td>\n",
              "      <td>0.0</td>\n",
              "      <td>0.458</td>\n",
              "      <td>6.998</td>\n",
              "      <td>45.8</td>\n",
              "      <td>6.0622</td>\n",
              "      <td>3.0</td>\n",
              "      <td>222.0</td>\n",
              "      <td>18.7</td>\n",
              "      <td>394.63</td>\n",
              "      <td>2.94</td>\n",
              "    </tr>\n",
              "    <tr>\n",
              "      <th>4</th>\n",
              "      <td>0.06905</td>\n",
              "      <td>0.0</td>\n",
              "      <td>2.18</td>\n",
              "      <td>0.0</td>\n",
              "      <td>0.458</td>\n",
              "      <td>7.147</td>\n",
              "      <td>54.2</td>\n",
              "      <td>6.0622</td>\n",
              "      <td>3.0</td>\n",
              "      <td>222.0</td>\n",
              "      <td>18.7</td>\n",
              "      <td>396.90</td>\n",
              "      <td>5.33</td>\n",
              "    </tr>\n",
              "  </tbody>\n",
              "</table>\n",
              "</div>"
            ],
            "text/plain": [
              "      CRIM    ZN  INDUS  CHAS    NOX  ...  RAD    TAX  PTRATIO       B  LSTAT\n",
              "0  0.00632  18.0   2.31   0.0  0.538  ...  1.0  296.0     15.3  396.90   4.98\n",
              "1  0.02731   0.0   7.07   0.0  0.469  ...  2.0  242.0     17.8  396.90   9.14\n",
              "2  0.02729   0.0   7.07   0.0  0.469  ...  2.0  242.0     17.8  392.83   4.03\n",
              "3  0.03237   0.0   2.18   0.0  0.458  ...  3.0  222.0     18.7  394.63   2.94\n",
              "4  0.06905   0.0   2.18   0.0  0.458  ...  3.0  222.0     18.7  396.90   5.33\n",
              "\n",
              "[5 rows x 13 columns]"
            ]
          },
          "metadata": {
            "tags": []
          },
          "execution_count": 6
        }
      ]
    },
    {
      "cell_type": "code",
      "metadata": {
        "colab": {
          "base_uri": "https://localhost:8080/",
          "height": 286
        },
        "id": "zejgyO_3G02i",
        "outputId": "20ede105-aea2-481b-8ccf-c4e500e06eea"
      },
      "source": [
        "boston.describe()"
      ],
      "execution_count": 7,
      "outputs": [
        {
          "output_type": "execute_result",
          "data": {
            "text/html": [
              "<div>\n",
              "<style scoped>\n",
              "    .dataframe tbody tr th:only-of-type {\n",
              "        vertical-align: middle;\n",
              "    }\n",
              "\n",
              "    .dataframe tbody tr th {\n",
              "        vertical-align: top;\n",
              "    }\n",
              "\n",
              "    .dataframe thead th {\n",
              "        text-align: right;\n",
              "    }\n",
              "</style>\n",
              "<table border=\"1\" class=\"dataframe\">\n",
              "  <thead>\n",
              "    <tr style=\"text-align: right;\">\n",
              "      <th></th>\n",
              "      <th>CRIM</th>\n",
              "      <th>ZN</th>\n",
              "      <th>INDUS</th>\n",
              "      <th>CHAS</th>\n",
              "      <th>NOX</th>\n",
              "      <th>RM</th>\n",
              "      <th>AGE</th>\n",
              "      <th>DIS</th>\n",
              "      <th>RAD</th>\n",
              "      <th>TAX</th>\n",
              "      <th>PTRATIO</th>\n",
              "      <th>B</th>\n",
              "      <th>LSTAT</th>\n",
              "    </tr>\n",
              "  </thead>\n",
              "  <tbody>\n",
              "    <tr>\n",
              "      <th>count</th>\n",
              "      <td>506.000000</td>\n",
              "      <td>506.000000</td>\n",
              "      <td>506.000000</td>\n",
              "      <td>506.000000</td>\n",
              "      <td>506.000000</td>\n",
              "      <td>506.000000</td>\n",
              "      <td>506.000000</td>\n",
              "      <td>506.000000</td>\n",
              "      <td>506.000000</td>\n",
              "      <td>506.000000</td>\n",
              "      <td>506.000000</td>\n",
              "      <td>506.000000</td>\n",
              "      <td>506.000000</td>\n",
              "    </tr>\n",
              "    <tr>\n",
              "      <th>mean</th>\n",
              "      <td>3.613524</td>\n",
              "      <td>11.363636</td>\n",
              "      <td>11.136779</td>\n",
              "      <td>0.069170</td>\n",
              "      <td>0.554695</td>\n",
              "      <td>6.284634</td>\n",
              "      <td>68.574901</td>\n",
              "      <td>3.795043</td>\n",
              "      <td>9.549407</td>\n",
              "      <td>408.237154</td>\n",
              "      <td>18.455534</td>\n",
              "      <td>356.674032</td>\n",
              "      <td>12.653063</td>\n",
              "    </tr>\n",
              "    <tr>\n",
              "      <th>std</th>\n",
              "      <td>8.601545</td>\n",
              "      <td>23.322453</td>\n",
              "      <td>6.860353</td>\n",
              "      <td>0.253994</td>\n",
              "      <td>0.115878</td>\n",
              "      <td>0.702617</td>\n",
              "      <td>28.148861</td>\n",
              "      <td>2.105710</td>\n",
              "      <td>8.707259</td>\n",
              "      <td>168.537116</td>\n",
              "      <td>2.164946</td>\n",
              "      <td>91.294864</td>\n",
              "      <td>7.141062</td>\n",
              "    </tr>\n",
              "    <tr>\n",
              "      <th>min</th>\n",
              "      <td>0.006320</td>\n",
              "      <td>0.000000</td>\n",
              "      <td>0.460000</td>\n",
              "      <td>0.000000</td>\n",
              "      <td>0.385000</td>\n",
              "      <td>3.561000</td>\n",
              "      <td>2.900000</td>\n",
              "      <td>1.129600</td>\n",
              "      <td>1.000000</td>\n",
              "      <td>187.000000</td>\n",
              "      <td>12.600000</td>\n",
              "      <td>0.320000</td>\n",
              "      <td>1.730000</td>\n",
              "    </tr>\n",
              "    <tr>\n",
              "      <th>25%</th>\n",
              "      <td>0.082045</td>\n",
              "      <td>0.000000</td>\n",
              "      <td>5.190000</td>\n",
              "      <td>0.000000</td>\n",
              "      <td>0.449000</td>\n",
              "      <td>5.885500</td>\n",
              "      <td>45.025000</td>\n",
              "      <td>2.100175</td>\n",
              "      <td>4.000000</td>\n",
              "      <td>279.000000</td>\n",
              "      <td>17.400000</td>\n",
              "      <td>375.377500</td>\n",
              "      <td>6.950000</td>\n",
              "    </tr>\n",
              "    <tr>\n",
              "      <th>50%</th>\n",
              "      <td>0.256510</td>\n",
              "      <td>0.000000</td>\n",
              "      <td>9.690000</td>\n",
              "      <td>0.000000</td>\n",
              "      <td>0.538000</td>\n",
              "      <td>6.208500</td>\n",
              "      <td>77.500000</td>\n",
              "      <td>3.207450</td>\n",
              "      <td>5.000000</td>\n",
              "      <td>330.000000</td>\n",
              "      <td>19.050000</td>\n",
              "      <td>391.440000</td>\n",
              "      <td>11.360000</td>\n",
              "    </tr>\n",
              "    <tr>\n",
              "      <th>75%</th>\n",
              "      <td>3.677083</td>\n",
              "      <td>12.500000</td>\n",
              "      <td>18.100000</td>\n",
              "      <td>0.000000</td>\n",
              "      <td>0.624000</td>\n",
              "      <td>6.623500</td>\n",
              "      <td>94.075000</td>\n",
              "      <td>5.188425</td>\n",
              "      <td>24.000000</td>\n",
              "      <td>666.000000</td>\n",
              "      <td>20.200000</td>\n",
              "      <td>396.225000</td>\n",
              "      <td>16.955000</td>\n",
              "    </tr>\n",
              "    <tr>\n",
              "      <th>max</th>\n",
              "      <td>88.976200</td>\n",
              "      <td>100.000000</td>\n",
              "      <td>27.740000</td>\n",
              "      <td>1.000000</td>\n",
              "      <td>0.871000</td>\n",
              "      <td>8.780000</td>\n",
              "      <td>100.000000</td>\n",
              "      <td>12.126500</td>\n",
              "      <td>24.000000</td>\n",
              "      <td>711.000000</td>\n",
              "      <td>22.000000</td>\n",
              "      <td>396.900000</td>\n",
              "      <td>37.970000</td>\n",
              "    </tr>\n",
              "  </tbody>\n",
              "</table>\n",
              "</div>"
            ],
            "text/plain": [
              "             CRIM          ZN       INDUS  ...     PTRATIO           B       LSTAT\n",
              "count  506.000000  506.000000  506.000000  ...  506.000000  506.000000  506.000000\n",
              "mean     3.613524   11.363636   11.136779  ...   18.455534  356.674032   12.653063\n",
              "std      8.601545   23.322453    6.860353  ...    2.164946   91.294864    7.141062\n",
              "min      0.006320    0.000000    0.460000  ...   12.600000    0.320000    1.730000\n",
              "25%      0.082045    0.000000    5.190000  ...   17.400000  375.377500    6.950000\n",
              "50%      0.256510    0.000000    9.690000  ...   19.050000  391.440000   11.360000\n",
              "75%      3.677083   12.500000   18.100000  ...   20.200000  396.225000   16.955000\n",
              "max     88.976200  100.000000   27.740000  ...   22.000000  396.900000   37.970000\n",
              "\n",
              "[8 rows x 13 columns]"
            ]
          },
          "metadata": {
            "tags": []
          },
          "execution_count": 7
        }
      ]
    },
    {
      "cell_type": "code",
      "metadata": {
        "id": "CFSaIXuZDNJf",
        "colab": {
          "base_uri": "https://localhost:8080/",
          "height": 196
        },
        "outputId": "12bd1752-c865-4b63-ac0c-e788e7c3d17d"
      },
      "source": [
        "# Seleccionamos las variables dependientes para el modelo\n",
        "X = pd.DataFrame(np.c_[boston['LSTAT'], boston['RM'], boston['NOX'], boston['TAX'], boston['DIS']], columns = ['LSTAT','RM','NOX','TAX','DIS'])\n",
        "Y = boston_dataset.target\n",
        "X.head()"
      ],
      "execution_count": 8,
      "outputs": [
        {
          "output_type": "execute_result",
          "data": {
            "text/html": [
              "<div>\n",
              "<style scoped>\n",
              "    .dataframe tbody tr th:only-of-type {\n",
              "        vertical-align: middle;\n",
              "    }\n",
              "\n",
              "    .dataframe tbody tr th {\n",
              "        vertical-align: top;\n",
              "    }\n",
              "\n",
              "    .dataframe thead th {\n",
              "        text-align: right;\n",
              "    }\n",
              "</style>\n",
              "<table border=\"1\" class=\"dataframe\">\n",
              "  <thead>\n",
              "    <tr style=\"text-align: right;\">\n",
              "      <th></th>\n",
              "      <th>LSTAT</th>\n",
              "      <th>RM</th>\n",
              "      <th>NOX</th>\n",
              "      <th>TAX</th>\n",
              "      <th>DIS</th>\n",
              "    </tr>\n",
              "  </thead>\n",
              "  <tbody>\n",
              "    <tr>\n",
              "      <th>0</th>\n",
              "      <td>4.98</td>\n",
              "      <td>6.575</td>\n",
              "      <td>0.538</td>\n",
              "      <td>296.0</td>\n",
              "      <td>4.0900</td>\n",
              "    </tr>\n",
              "    <tr>\n",
              "      <th>1</th>\n",
              "      <td>9.14</td>\n",
              "      <td>6.421</td>\n",
              "      <td>0.469</td>\n",
              "      <td>242.0</td>\n",
              "      <td>4.9671</td>\n",
              "    </tr>\n",
              "    <tr>\n",
              "      <th>2</th>\n",
              "      <td>4.03</td>\n",
              "      <td>7.185</td>\n",
              "      <td>0.469</td>\n",
              "      <td>242.0</td>\n",
              "      <td>4.9671</td>\n",
              "    </tr>\n",
              "    <tr>\n",
              "      <th>3</th>\n",
              "      <td>2.94</td>\n",
              "      <td>6.998</td>\n",
              "      <td>0.458</td>\n",
              "      <td>222.0</td>\n",
              "      <td>6.0622</td>\n",
              "    </tr>\n",
              "    <tr>\n",
              "      <th>4</th>\n",
              "      <td>5.33</td>\n",
              "      <td>7.147</td>\n",
              "      <td>0.458</td>\n",
              "      <td>222.0</td>\n",
              "      <td>6.0622</td>\n",
              "    </tr>\n",
              "  </tbody>\n",
              "</table>\n",
              "</div>"
            ],
            "text/plain": [
              "   LSTAT     RM    NOX    TAX     DIS\n",
              "0   4.98  6.575  0.538  296.0  4.0900\n",
              "1   9.14  6.421  0.469  242.0  4.9671\n",
              "2   4.03  7.185  0.469  242.0  4.9671\n",
              "3   2.94  6.998  0.458  222.0  6.0622\n",
              "4   5.33  7.147  0.458  222.0  6.0622"
            ]
          },
          "metadata": {
            "tags": []
          },
          "execution_count": 8
        }
      ]
    },
    {
      "cell_type": "code",
      "metadata": {
        "colab": {
          "base_uri": "https://localhost:8080/"
        },
        "id": "kF5JPFs4EVOT",
        "outputId": "92d56147-3362-4f4a-ffdb-9f9d677413e9"
      },
      "source": [
        "# Dividimos los datos en trian y test\n",
        "from sklearn.model_selection import train_test_split\n",
        "\n",
        "X_train, X_test, Y_train, Y_test = train_test_split(X, Y, test_size = 0.2, random_state=5)\n",
        "X_train.head()\n",
        "print('Muestras de entrenamiento: ',X_train.shape[0])"
      ],
      "execution_count": 45,
      "outputs": [
        {
          "output_type": "stream",
          "text": [
            "Muestras de entrenamiento:  404\n"
          ],
          "name": "stdout"
        }
      ]
    },
    {
      "cell_type": "markdown",
      "metadata": {
        "id": "7IwqbadTbktG"
      },
      "source": [
        "## Aplicamos el modelo de regresión lineal múltiple"
      ]
    },
    {
      "cell_type": "markdown",
      "metadata": {
        "id": "tefnEZsRCG6m"
      },
      "source": [
        "El modelo que minimiza la suma de los cuadrados de los errores es:\n",
        "\n",
        "![Parametros.png](data:image/png;base64,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)"
      ]
    },
    {
      "cell_type": "markdown",
      "metadata": {
        "id": "LYSDzkQcDCQV"
      },
      "source": [
        "La matriz X que contiene las variables independientes tiene la forma:\n",
        "![VariablesExplicativas.png](data:image/png;base64,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)"
      ]
    },
    {
      "cell_type": "code",
      "metadata": {
        "id": "LZRfMGcSg8k8"
      },
      "source": [
        "# Creamos un arreglo de números 1 y le agregamos la matriz X\n",
        "c1_mat = np.array(np.ones((X_train.shape[0],1)))\n",
        "X_mat = np.append(c1_mat,X_train.values,axis=1)"
      ],
      "execution_count": 11,
      "outputs": []
    },
    {
      "cell_type": "code",
      "metadata": {
        "colab": {
          "base_uri": "https://localhost:8080/"
        },
        "id": "nSC0ZeaObucl",
        "outputId": "195f0441-431e-478a-9857-a78e2083a686"
      },
      "source": [
        "# Realizamos las operaciones del modelo\n",
        "# Calculamos X transpuesta\n",
        "X_matT =  X_mat.transpose()\n",
        "\n",
        "# Calculamos la inversa de la multiplicación X*XT\n",
        "X_inv = np.linalg.inv(np.matmul(X_matT,X_mat))\n",
        "\n",
        "# Calculamos la multiplicación XT*Y\n",
        "X_matTY = np.matmul(X_matT,Y_train)\n",
        "\n",
        "# Finalmente encontramos los parámetros multiplicando los dos resultados anteriores\n",
        "Beta = np.matmul(X_inv,X_matTY)\n",
        "\n",
        "print('B0 = {}, B1 ={}, B2 = {}, B3 = {}, B4 = {}, B5 = {}'.format(Beta[0],Beta[1],Beta[2],Beta[3],Beta[4],Beta[5],))\n"
      ],
      "execution_count": 12,
      "outputs": [
        {
          "output_type": "stream",
          "text": [
            "B0 = 13.634894781940147, B1 =-0.7008653244375127, B2 = 4.476091463283882, B3 = -6.5053392579238505, B4 = -0.007625383265981833, B5 = -0.9686058048819248\n"
          ],
          "name": "stdout"
        }
      ]
    },
    {
      "cell_type": "code",
      "metadata": {
        "colab": {
          "base_uri": "https://localhost:8080/"
        },
        "id": "f4P_QobnFCFD",
        "outputId": "d44a5f4c-e971-435f-ad60-ba33e50b91b4"
      },
      "source": [
        "# Probamos con una entrada nueva\n",
        "# LSTAT = 18.35\n",
        "# RM = 5.701\n",
        "# NOX = 0.538\n",
        "# TAX = 307\n",
        "# DIS = 3.7872\n",
        "\n",
        "x_in = np.array([1, 18.35,5.701\t,0.538,\t307.0,\t3.7872])\n",
        "MedV = np.dot(x_in,Beta)\n",
        "MedV"
      ],
      "execution_count": 13,
      "outputs": [
        {
          "output_type": "execute_result",
          "data": {
            "text/plain": [
              "16.783044423024915"
            ]
          },
          "metadata": {
            "tags": []
          },
          "execution_count": 13
        }
      ]
    },
    {
      "cell_type": "markdown",
      "metadata": {
        "id": "GIT_vt6mG841"
      },
      "source": [
        "## **2. Modelo usando Sklearn**"
      ]
    },
    {
      "cell_type": "code",
      "metadata": {
        "id": "TvGJiA1NEZ2v"
      },
      "source": [
        "# Definimos el modelo\n",
        "linear_model = LinearRegression()"
      ],
      "execution_count": 15,
      "outputs": []
    },
    {
      "cell_type": "code",
      "metadata": {
        "id": "njz6fvXuaQlO",
        "colab": {
          "base_uri": "https://localhost:8080/"
        },
        "outputId": "cd573d2e-274a-4c1e-d02c-fd4245ce1ef4"
      },
      "source": [
        "# Realizamos el entrenamiento (Ajuste de parámeetros)\n",
        "linear_model.fit(X_train, Y_train)"
      ],
      "execution_count": 16,
      "outputs": [
        {
          "output_type": "execute_result",
          "data": {
            "text/plain": [
              "LinearRegression(copy_X=True, fit_intercept=True, n_jobs=None, normalize=False)"
            ]
          },
          "metadata": {
            "tags": []
          },
          "execution_count": 16
        }
      ]
    },
    {
      "cell_type": "code",
      "metadata": {
        "colab": {
          "base_uri": "https://localhost:8080/"
        },
        "id": "_x2805zOaYgf",
        "outputId": "64119be6-a501-4101-8dbe-0f6924235ba0"
      },
      "source": [
        "# Identificamos los coeficientes\n",
        "coeficientes = linear_model.coef_\n",
        "intercepto = linear_model.intercept_\n",
        "\n",
        "print('B0 = {}, B1 ={}, B2 = {}, B3 = {}, B4 = {}, B5 = {}'.format(intercepto,\n",
        "                                                                   coeficientes[0],coeficientes[1],\n",
        "                                                                   coeficientes[2],coeficientes[3],\n",
        "                                                                   coeficientes[4],))"
      ],
      "execution_count": 19,
      "outputs": [
        {
          "output_type": "stream",
          "text": [
            "B0 = 13.634894781946675, B1 =-0.7008653244375374, B2 = 4.476091463283327, B3 = -6.505339257929595, B4 = -0.007625383265980723, B5 = -0.968605804882066\n"
          ],
          "name": "stdout"
        }
      ]
    },
    {
      "cell_type": "code",
      "metadata": {
        "colab": {
          "base_uri": "https://localhost:8080/"
        },
        "id": "dvlX8xzEvNOu",
        "outputId": "d2b74b4b-4e67-4b42-eb3e-7138d2a6c2d8"
      },
      "source": [
        "# Probamos con una entrada nueva\n",
        "# LSTAT = 18.35\n",
        "# RM = 5.701\n",
        "# NOX = 0.538\n",
        "# TAX = 307\n",
        "# DIS = 3.7872\n",
        "x_in = np.array([18.35,5.701\t,0.538,\t307.0,\t3.7872])\n",
        "MedV = linear_model.predict(x_in.reshape((1, X_test.shape[1])))\n",
        "MedV"
      ],
      "execution_count": 42,
      "outputs": [
        {
          "output_type": "execute_result",
          "data": {
            "text/plain": [
              "array([16.78304442])"
            ]
          },
          "metadata": {
            "tags": []
          },
          "execution_count": 42
        }
      ]
    },
    {
      "cell_type": "code",
      "metadata": {
        "colab": {
          "base_uri": "https://localhost:8080/"
        },
        "id": "YvkviK6sEb37",
        "outputId": "7e6d3274-bfae-4196-85f1-c004e50d9bb7"
      },
      "source": [
        "# Evaluamos el desempeño\n",
        "R2 = linear_model.score(X_test,Y_test)\n",
        "y_test_predict = linear_model.predict(X_test)\n",
        "RMSE = (np.sqrt(mean_squared_error(Y_test, y_test_predict)))\n",
        "\n",
        "print(\"coeficiente de determinación R^2: \", R2)\n",
        "print('Rmse ',RMSE)"
      ],
      "execution_count": 43,
      "outputs": [
        {
          "output_type": "stream",
          "text": [
            "coeficiente de determinación R^2:  0.713976177826621\n",
            "Rmse  4.732220575961914\n"
          ],
          "name": "stdout"
        }
      ]
    }
  ]
}